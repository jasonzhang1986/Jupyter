{
 "cells": [
  {
   "cell_type": "code",
   "execution_count": 25,
   "metadata": {
    "scrolled": true
   },
   "outputs": [
    {
     "name": "stdout",
     "output_type": "stream",
     "text": [
      "Hello World!\n"
     ]
    }
   ],
   "source": [
    "print('Hello World!')"
   ]
  },
  {
   "cell_type": "code",
   "execution_count": 26,
   "metadata": {},
   "outputs": [
    {
     "name": "stdout",
     "output_type": "stream",
     "text": [
      "abc\n"
     ]
    }
   ],
   "source": [
    "print(\"abc\")"
   ]
  },
  {
   "cell_type": "code",
   "execution_count": 1,
   "metadata": {},
   "outputs": [
    {
     "name": "stdout",
     "output_type": "stream",
     "text": [
      "   省级政区代码 省级政区名称  地市级政区代码 地市级政区名称    年份 党委书记姓名  出生年份  出生月份  籍贯省份代码 籍贯省份名称  \\\n",
      "0  130000    河北省   130100    石家庄市  2000    陈来立   NaN   NaN     NaN    NaN   \n",
      "1  130000    河北省   130100    石家庄市  2001    吴振华   NaN   NaN     NaN    NaN   \n",
      "2  130000    河北省   130100    石家庄市  2002    吴振华   NaN   NaN     NaN    NaN   \n",
      "3  130000    河北省   130100    石家庄市  2003    吴振华   NaN   NaN     NaN    NaN   \n",
      "4  130000    河北省   130100    石家庄市  2004    吴振华   NaN   NaN     NaN    NaN   \n",
      "\n",
      "   ...    民族  教育 是否是党校教育（是=1，否=0） 专业：人文 专业：社科  专业：理工  专业：农科  专业：医科  入党年份  工作年份  \n",
      "0  ...   NaN  硕士              1.0   NaN   NaN    NaN    NaN    NaN   NaN   NaN  \n",
      "1  ...   NaN  本科              0.0   0.0   0.0    1.0    0.0    0.0   NaN   NaN  \n",
      "2  ...   NaN  本科              0.0   0.0   0.0    1.0    0.0    0.0   NaN   NaN  \n",
      "3  ...   NaN  本科              0.0   0.0   0.0    1.0    0.0    0.0   NaN   NaN  \n",
      "4  ...   NaN  本科              0.0   0.0   0.0    1.0    0.0    0.0   NaN   NaN  \n",
      "\n",
      "[5 rows x 23 columns]\n"
     ]
    }
   ],
   "source": [
    "import numpy as np\n",
    "import pandas as pd\n",
    "import matplotlib.pyplot as plt\n",
    "\n",
    "data = pd.read_csv('/Users/jifengzhang/Desktop/地市级党委书记数据库.csv', encoding='gbk', engine='python')\n",
    "print(data.head())"
   ]
  },
  {
   "cell_type": "code",
   "execution_count": 34,
   "metadata": {},
   "outputs": [
    {
     "name": "stdout",
     "output_type": "stream",
     "text": [
      "0       陈来立\n",
      "1       吴振华\n",
      "2       吴振华\n",
      "3       吴振华\n",
      "4       吴振华\n",
      "5       吴振华\n",
      "6       吴振华\n",
      "7       吴显国\n",
      "8       吴显国\n",
      "9        车俊\n",
      "10      孙瑞彬\n",
      "11      白润璋\n",
      "12      白润璋\n",
      "13      白润璋\n",
      "14       张和\n",
      "15       张和\n",
      "16       张和\n",
      "17       张和\n",
      "18       赵勇\n",
      "19       赵勇\n",
      "20       赵勇\n",
      "21       赵勇\n",
      "22      王建忠\n",
      "23      王建忠\n",
      "24      王建忠\n",
      "25      宋长瑞\n",
      "26      宋长瑞\n",
      "27      宋长瑞\n",
      "28      宋长瑞\n",
      "29      王三堂\n",
      "       ... \n",
      "3633    NaN\n",
      "3634    NaN\n",
      "3635    NaN\n",
      "3636    NaN\n",
      "3637    NaN\n",
      "3638    NaN\n",
      "3639    NaN\n",
      "3640    NaN\n",
      "3641    NaN\n",
      "3642    NaN\n",
      "3643    NaN\n",
      "3644    NaN\n",
      "3645    NaN\n",
      "3646    NaN\n",
      "3647    NaN\n",
      "3648    NaN\n",
      "3649    NaN\n",
      "3650    NaN\n",
      "3651    NaN\n",
      "3652    NaN\n",
      "3653    NaN\n",
      "3654    NaN\n",
      "3655    NaN\n",
      "3656    NaN\n",
      "3657    NaN\n",
      "3658    NaN\n",
      "3659    NaN\n",
      "3660    NaN\n",
      "3661    NaN\n",
      "3662    NaN\n",
      "Name: 党委书记姓名, Length: 3663, dtype: object\n"
     ]
    }
   ],
   "source": [
    "print(data['党委书记姓名'])"
   ]
  },
  {
   "cell_type": "code",
   "execution_count": 2,
   "metadata": {},
   "outputs": [
    {
     "name": "stdout",
     "output_type": "stream",
     "text": [
      "['省级政区代码', '省级政区名称', '地市级政区代码', '地市级政区名称', '年份', '党委书记姓名', '出生年份', '出生月份', '籍贯省份代码', '籍贯省份名称', '籍贯地市代码', '籍贯地市名称', '性别', '民族', '教育', '是否是党校教育（是=1，否=0）', '专业：人文', '专业：社科', '专业：理工', '专业：农科', '专业：医科', '入党年份', '工作年份']\n"
     ]
    }
   ],
   "source": [
    "print(data.columns.tolist())"
   ]
  },
  {
   "cell_type": "code",
   "execution_count": 3,
   "metadata": {},
   "outputs": [
    {
     "name": "stdout",
     "output_type": "stream",
     "text": [
      "121    男\n",
      "122    男\n",
      "123    男\n",
      "124    男\n",
      "125    男\n",
      "126    男\n",
      "127    男\n",
      "128    男\n",
      "129    男\n",
      "130    男\n",
      "Name: 性别, dtype: object\n",
      "--------------\n",
      "['男' '女']\n"
     ]
    }
   ],
   "source": [
    "data_gender = data['性别']\n",
    "# print(data_gender.head(10))\n",
    "# data_gender_notnull = data_gender.notnull()\n",
    "# data_gender_re = data_gender[data_gender.notnull()]\n",
    "# type(data_gender_notnull)\n",
    "# data_gender_notnull[130:140]\n",
    "# type(data_gender)\n",
    "data_gender = data_gender[data_gender.notnull()]\n",
    "print(data_gender.head(10))\n",
    "print('--------------')\n",
    "print(data_gender.unique())"
   ]
  },
  {
   "cell_type": "code",
   "execution_count": 4,
   "metadata": {},
   "outputs": [
    {
     "name": "stdout",
     "output_type": "stream",
     "text": [
      "样本量：2708\n",
      "男性样本量：2633\n",
      "女性样本量：75\n",
      "男性样本占比：97.2%\n",
      "女性样本占比：2.76%\n"
     ]
    }
   ],
   "source": [
    "count = len(data_gender)\n",
    "print('样本量：%d' % count)\n",
    "count_man = len(data_gender[data_gender == '男'])\n",
    "print('男性样本量：%d' % count_man)\n",
    "count_women = len(data_gender[data_gender == '女'])\n",
    "print('女性样本量：%d' % count_women)\n",
    "rate_man = count_man / count\n",
    "print('男性样本占比：' + str(rate_man*100)[:4] + '%')\n",
    "rate_women = count_women / count\n",
    "print('女性样本占比：' + str(rate_women*100)[:4] + '%')"
   ]
  },
  {
   "cell_type": "code",
   "execution_count": 6,
   "metadata": {},
   "outputs": [
    {
     "name": "stdout",
     "output_type": "stream",
     "text": [
      "    省级政区名称 性别\n",
      "121    山西省  男\n",
      "122    山西省  男\n",
      "123    山西省  男\n",
      "124    山西省  男\n",
      "125    山西省  男\n",
      "-------------\n",
      "<class 'pandas.core.frame.DataFrame'>\n",
      "性别       女    男\n",
      "省级政区名称         \n",
      "云南省      2   73\n",
      "内蒙古自治区   0   86\n",
      "吉林省      4   72\n",
      "四川省      8  155\n",
      "宁夏回族自治区  0   49\n",
      "--------------\n",
      "性别       女    男      女性占比\n",
      "省级政区名称                   \n",
      "云南省      2   73  0.026667\n",
      "内蒙古自治区   0   86  0.000000\n",
      "吉林省      4   72  0.052632\n",
      "四川省      8  155  0.049080\n",
      "宁夏回族自治区  0   49  0.000000\n",
      "------------\n",
      "性别       女    男      女性占比\n",
      "省级政区名称                   \n",
      "辽宁省     13  121  0.097015\n",
      "陕西省      9   93  0.088235\n",
      "吉林省      4   72  0.052632\n",
      "山西省      6  112  0.050847\n",
      "四川省      8  155  0.049080\n"
     ]
    }
   ],
   "source": [
    "data_gender2 = data[['省级政区名称','性别']]\n",
    "data_gender2 = data_gender2[data_gender2['性别'].notnull()] #清洗数据，去掉null值\n",
    "print(data_gender2.head())\n",
    "\n",
    "print('-------------')\n",
    "\n",
    "pt = pd.crosstab(data_gender2['省级政区名称'], data_gender2['性别'])\n",
    "print(type(pt))\n",
    "print(pt.head())\n",
    "print('--------------')\n",
    "pt['女性占比'] = pt['女'] / (pt['女'] + pt['男'])\n",
    "print(pt.head())\n",
    "\n",
    "print('------------')\n",
    "\n",
    "pt = pt.sort_values(by = ['女性占比'], ascending=False)\n",
    "print(pt.head())"
   ]
  },
  {
   "cell_type": "code",
   "execution_count": 91,
   "metadata": {},
   "outputs": [
    {
     "name": "stdout",
     "output_type": "stream",
     "text": [
      "Index(['辽宁省', '陕西省', '吉林省', '山西省', '四川省', '安徽省', '江西省', '山东省', '福建省', '云南省'], dtype='object', name='省级政区名称')\n"
     ]
    },
    {
     "data": {
      "image/png": "[encoded data removed]",
      "text/plain": [
       "<matplotlib.figure.Figure at 0x110fbfdd8>"
      ]
     },
     "metadata": {},
     "output_type": "display_data"
    }
   ],
   "source": [
    "#绘制图表\n",
    "fig_q1_1 = plt.figure(figsize = (8,4))\n",
    "plt.rcParams['font.sans-serif'] = ['SimHei']  # 用来正常显示中文标签\n",
    "plt.title('不同省份女性市委书记占比')\n",
    "index = pt.index[:10]\n",
    "print(index)\n",
    "plt.bar(range(10),\n",
    "       pt['女性占比'][:10],\n",
    "       tick_label=index,\n",
    "       color='gray')\n",
    "plt.xlabel('省份')\n",
    "plt.ylabel('女性占比')\n",
    "plt.show()\n"
   ]
  },
  {
   "cell_type": "code",
   "execution_count": 32,
   "metadata": {},
   "outputs": [
    {
     "name": "stdout",
     "output_type": "stream",
     "text": [
      "       出生年份 党委书记姓名    年份\n",
      "121  1945.0    侯伍杰  2000\n",
      "122  1945.0    侯伍杰  2001\n",
      "123  1950.0    云公民  2002\n",
      "124  1950.0    云公民  2003\n",
      "125  1950.0    云公民  2004\n",
      "126  1950.0    云公民  2005\n",
      "127  1956.0    申维辰  2006\n",
      "128  1956.0    申维辰  2007\n",
      "129  1956.0    申维辰  2008\n",
      "130  1956.0    申维辰  2009\n",
      "<class 'pandas.core.frame.DataFrame'>\n",
      "\n",
      "\n",
      "<class 'pandas.core.series.Series'>\n",
      "年龄：\n",
      "121    72.0\n",
      "122    72.0\n",
      "123    67.0\n",
      "124    67.0\n",
      "125    67.0\n",
      "126    67.0\n",
      "127    61.0\n",
      "128    61.0\n",
      "129    61.0\n",
      "130    61.0\n",
      "Name: 出生年份, dtype: float64\n",
      "\n",
      "\n",
      "入职年份\n",
      "          年份 党委书记姓名\n",
      "党委书记姓名             \n",
      "_沛钧     2008    _沛钧\n",
      "丁海中     2003    丁海中\n",
      "丁耀民     2000    丁耀民\n",
      "丁解民     2001    丁解民\n",
      "万庆良     2005    万庆良\n",
      "丰立祥     2008    丰立祥\n",
      "乔延春     2000    乔延春\n",
      "于伟      2003     于伟\n",
      "于伟国     2009    于伟国\n",
      "于建成     2006    于建成\n",
      "入职年份统计\n",
      "年份\n",
      "2000    190\n",
      "2001     69\n",
      "2002     65\n",
      "2003     88\n",
      "2004     51\n",
      "2005     55\n",
      "2006     50\n",
      "2007     59\n",
      "2008     99\n",
      "2009     23\n",
      "Name: 年份, dtype: int64\n",
      "\n",
      "\n",
      "卸任年份\n",
      "          年份 党委书记姓名\n",
      "党委书记姓名             \n",
      "_沛钧     2009    _沛钧\n",
      "丁海中     2009    丁海中\n",
      "丁耀民     2003    丁耀民\n",
      "丁解民     2007    丁解民\n",
      "万庆良     2007    万庆良\n",
      "丰立祥     2010    丰立祥\n",
      "乔延春     2002    乔延春\n",
      "于伟      2007     于伟\n",
      "于伟国     2010    于伟国\n",
      "于建成     2010    于建成\n",
      "年份\n",
      "2000     47\n",
      "2001     44\n",
      "2002     71\n",
      "2003     38\n",
      "2004     48\n",
      "2005     49\n",
      "2006     58\n",
      "2007    105\n",
      "2008     25\n",
      "2009     41\n",
      "2010    223\n",
      "Name: 年份, dtype: int64\n"
     ]
    }
   ],
   "source": [
    "data_age = data[['出生年份','党委书记姓名','年份']]\n",
    "# print(data_age.head(10))\n",
    "data_age = data_age[data_age['出生年份'].notnull()]\n",
    "print(data_age.head(10))\n",
    "print(type(data_age))\n",
    "\n",
    "print('\\n')\n",
    "\n",
    "df1 = 2017 - data_age['出生年份']\n",
    "print(type(df1))\n",
    "print('年龄：')\n",
    "print(df1.head(10))\n",
    "\n",
    "print('\\n')\n",
    "\n",
    "print('入职年份')\n",
    "df_year_min = data_age[['年份', '党委书记姓名']].groupby(data_age['党委书记姓名']).min()\n",
    "print(df_year_min.head(10))\n",
    "df2 = df_year_min['年份'].groupby(df_year_min['年份']).count()\n",
    "print('入职年份统计')\n",
    "print(df2)\n",
    "\n",
    "print('\\n')\n",
    "print('卸任年份')\n",
    "df_year_max = data_age[['年份', '党委书记姓名']].groupby(data_age['党委书记姓名']).max()\n",
    "print(df_year_max.head(10))\n",
    "df3 = df_year_max['年份'].groupby(df_year_max['年份']).count()\n",
    "print(df3)"
   ]
  },
  {
   "cell_type": "code",
   "execution_count": 85,
   "metadata": {},
   "outputs": [
    {
     "name": "stdout",
     "output_type": "stream",
     "text": [
      "  党委书记姓名    年份  专业：人文  专业：社科  专业：理工  专业：农科  专业：医科\n",
      "1    吴振华  2001    0.0    0.0    1.0    0.0    0.0\n",
      "2    吴振华  2002    0.0    0.0    1.0    0.0    0.0\n",
      "3    吴振华  2003    0.0    0.0    1.0    0.0    0.0\n",
      "4    吴振华  2004    0.0    0.0    1.0    0.0    0.0\n",
      "5    吴振华  2005    0.0    0.0    1.0    0.0    0.0\n",
      "\n",
      "\n",
      "  党委书记姓名    年份  专业：人文  专业：社科  专业：理工  专业：农科  专业：医科     专业\n",
      "1    吴振华  2001    0.0    0.0    1.0    0.0    0.0  专业：理工\n",
      "2    吴振华  2002    0.0    0.0    1.0    0.0    0.0  专业：理工\n",
      "3    吴振华  2003    0.0    0.0    1.0    0.0    0.0  专业：理工\n",
      "4    吴振华  2004    0.0    0.0    1.0    0.0    0.0  专业：理工\n",
      "5    吴振华  2005    0.0    0.0    1.0    0.0    0.0  专业：理工\n",
      "\n",
      "\n",
      "   党委书记姓名     专业\n",
      "1     吴振华  专业：理工\n",
      "7     吴显国  专业：社科\n",
      "9      车俊  专业：社科\n",
      "10    孙瑞彬  专业：社科\n",
      "11    白润璋  专业：理工\n",
      "\n",
      "\n",
      "专业\n",
      "专业：人文    187\n",
      "专业：农科     21\n",
      "专业：医科      5\n",
      "专业：理工    127\n",
      "专业：社科    346\n",
      "Name: 专业, dtype: int64\n",
      "\n",
      "\n",
      "专业    专业：人文  专业：农科  专业：医科  专业：理工  专业：社科\n",
      "年份                                     \n",
      "2000     33      7      2     43     53\n",
      "2001     42      6      3     36     78\n",
      "2002     56      5      4     35     90\n",
      "2003     67      7      2     25    106\n",
      "2004     68      7      2     28    118\n",
      "2005     63      7      2     31    123\n",
      "2006     67      9      2     34    123\n",
      "2007     69      8      2     34    128\n",
      "2008     68      8      0     44    130\n",
      "2009     67      8      0     42    131\n",
      "专业    专业：人文  专业：农科  专业：医科  专业：理工  专业：社科      社科比例      人文比例    理工农医比例\n",
      "年份                                                                   \n",
      "2000     33      7      2     43     53  0.384058  0.239130  0.376812\n",
      "2001     42      6      3     36     78  0.472727  0.254545  0.272727\n",
      "2002     56      5      4     35     90  0.473684  0.294737  0.231579\n",
      "2003     67      7      2     25    106  0.512077  0.323671  0.164251\n",
      "2004     68      7      2     28    118  0.529148  0.304933  0.165919\n"
     ]
    }
   ],
   "source": [
    "data_major = data[['党委书记姓名','年份', '专业：人文', '专业：社科', '专业：理工', '专业：农科', '专业：医科']]\n",
    "data_major = data_major[data_major['专业：人文'].notnull()]\n",
    "print(data_major.head())\n",
    "\n",
    "print('\\n')\n",
    "\n",
    "data_major['专业'] = data_major[['专业：人文', '专业：社科', '专业：理工', '专业：农科', '专业：医科']].idxmax(axis=1)\n",
    "print(data_major.head())\n",
    "\n",
    "print('\\n')\n",
    "\n",
    "data_major2 = data_major[['党委书记姓名','专业']].drop_duplicates()\n",
    "print(data_major2.head())\n",
    "\n",
    "print('\\n')\n",
    "\n",
    "df4 = data_major2['专业'].groupby(data_major2['专业']).count()\n",
    "print(df4)\n",
    "\n",
    "print('\\n')\n",
    "\n",
    "df5 = pd.crosstab(data_major['年份'], data_major['专业'])\n",
    "print(df5.head(10))\n",
    "\n",
    "df5['社科比例'] = df5['专业：社科'] / (df5['专业：理工'] + df5['专业：医科'] + df5['专业：社科'] + df5['专业：农科'] + df5['专业：人文'])\n",
    "df5['人文比例'] = df5['专业：人文'] / (df5['专业：理工'] + df5['专业：医科'] + df5['专业：社科'] + df5['专业：农科'] + df5['专业：人文'])\n",
    "df5['理工农医比例'] = (df5['专业：理工'] + df5['专业：农科'] + df5['专业：医科']) / (df5['专业：理工'] + df5['专业：医科'] + df5['专业：社科'] + df5['专业：农科'] + df5['专业：人文'])\n",
    "\n",
    "print(df5.head())"
   ]
  },
  {
   "cell_type": "code",
   "execution_count": 92,
   "metadata": {},
   "outputs": [
    {
     "data": {
      "image/png": "[encoded data removed]",
      "text/plain": [
       "<matplotlib.figure.Figure at 0x1050c4940>"
      ]
     },
     "metadata": {},
     "output_type": "display_data"
    }
   ],
   "source": [
    "#绘制图表\n",
    "fig_q2 = plt.figure(figsize= (15,8))\n",
    "\n",
    "#创建2x3的表格矩阵\n",
    "ax1 = fig_q2.add_subplot(2,3,1)\n",
    "ax2 = fig_q2.add_subplot(2,3,2)\n",
    "ax3 = fig_q2.add_subplot(2,3,3)\n",
    "ax4 = fig_q2.add_subplot(2,3,4)\n",
    "ax5 = fig_q2.add_subplot(2,3,5)\n",
    "ax6 = fig_q2.add_subplot(2,3,6)\n",
    "\n",
    "ax1.hist(df1, bins=11, color='gray', alpha=1)\n",
    "ax1.set_title('年龄分布直方图')\n",
    "ax1.grid(True)\n",
    "\n",
    "ax2.plot(df2, color='r', marker='o', alpha = 0.9)\n",
    "ax2.grid(True)\n",
    "ax2.set_title('入职年龄分布')\n",
    "\n",
    "ax3.plot(df3, color='g', marker='o', alpha = 0.9)\n",
    "ax3.set_title('卸任年龄分布')\n",
    "ax3.grid(True)\n",
    "\n",
    "# print(len(df4))\n",
    "ax4.bar(range(len(df4)), df4, color='y')\n",
    "ax4.set_xticklabels(['','人文','农科','医科','理工','社科'])\n",
    "ax4.set_title('专业分布')\n",
    "ax4.grid(True)\n",
    "\n",
    "ax5.plot(df5.index, df5[['专业：人文', '专业：社科', '专业：理工', '专业：农科', '专业：医科']])\n",
    "ax5.grid(True)\n",
    "ax5.set_title(\"专业整体情况\")\n",
    "\n",
    "ax6.bar(df5.index, df5['社科比例'], color='darkred', alpha=0.7)\n",
    "ax6.bar(df5.index, df5['人文比例'], bottom=df5['社科比例'], color='darkred', alpha = 0.5)\n",
    "ax6.bar(df5.index, df5['理工农医比例'], bottom=df5['人文比例']+df5['社科比例'], color='darkred', alpha = 0.3)\n",
    "ax6.grid(True)\n",
    "ax6.set_title('专业大类分布')\n",
    "\n",
    "plt.show()"
   ]
  },
  {
   "cell_type": "code",
   "execution_count": 105,
   "metadata": {},
   "outputs": [
    {
     "name": "stdout",
     "output_type": "stream",
     "text": [
      "       年份 党委书记姓名    出生年份\n",
      "121  2000    侯伍杰  1945.0\n",
      "122  2001    侯伍杰  1945.0\n",
      "123  2002    云公民  1950.0\n",
      "124  2003    云公民  1950.0\n",
      "125  2004    云公民  1950.0\n",
      "[ 1945.  1950.  1956.  1949.  1952.  1957.  1953.  1960.  1955.  1951.\n",
      "  1954.  1948.  1947.  1946.  1944.  1962.  1964.  1942.  1963.  1958.\n",
      "  1965.  1943.  1961.  1959.  1941.  1966.]\n",
      "-----------------\n",
      "        年份Max    出生年份   姓名\n",
      "党委书记姓名                    \n",
      "_沛钧      2009  1954.0  _沛钧\n",
      "丁海中      2009  1951.0  丁海中\n",
      "丁耀民      2003  1948.0  丁耀民\n",
      "丁解民      2007  1951.0  丁解民\n",
      "万庆良      2007  1964.0  万庆良\n",
      "        年份Min    出生年份   姓名\n",
      "党委书记姓名                    \n",
      "_沛钧      2008  1954.0  _沛钧\n",
      "丁海中      2003  1951.0  丁海中\n",
      "丁耀民      2000  1948.0  丁耀民\n",
      "丁解民      2001  1951.0  丁解民\n",
      "万庆良      2005  1964.0  万庆良\n",
      "   年份Max    出生年份   姓名  年份Min  任期\n",
      "0   2009  1954.0  _沛钧   2008   1\n",
      "1   2009  1951.0  丁海中   2003   6\n",
      "2   2003  1948.0  丁耀民   2000   3\n",
      "3   2007  1951.0  丁解民   2001   6\n",
      "4   2007  1964.0  万庆良   2005   2\n"
     ]
    }
   ],
   "source": [
    "#任期情况\n",
    "\n",
    "data_term = data[['年份', '党委书记姓名', '出生年份']]\n",
    "data_term = data_term[data_term['出生年份'].notnull()]\n",
    "print(data_term.head())\n",
    "print(data_term['出生年份'].unique())\n",
    "print('-----------------')\n",
    "\n",
    "year_max = data_term[['年份', '出生年份']].groupby(data_term['党委书记姓名']).max()\n",
    "year_max.rename(columns={'年份':'年份Max'}, inplace=True)\n",
    "year_max['姓名'] = year_max.index\n",
    "print(year_max.head())\n",
    "year_min = data_term[['年份', '出生年份']].groupby(data_term['党委书记姓名']).min()\n",
    "year_min.rename(columns={'年份':'年份Min'}, inplace=True)\n",
    "year_min['姓名'] = year_min.index\n",
    "print(year_min.head())\n",
    "\n",
    "data_term_fin = pd.merge(year_max, year_min)\n",
    "# print(data_term_fin.head())\n",
    "data_term_fin['任期'] = data_term_fin['年份Max'] - data_term_fin['年份Min']\n",
    "print(data_term_fin.head())\n"
   ]
  },
  {
   "cell_type": "code",
   "execution_count": 117,
   "metadata": {},
   "outputs": [
    {
     "data": {
      "image/png": "[encoded data removed]",
      "text/plain": [
       "<matplotlib.figure.Figure at 0x108ba4b38>"
      ]
     },
     "metadata": {},
     "output_type": "display_data"
    }
   ],
   "source": [
    "fig_q3_1 = plt.figure(figsize=(8,4))\n",
    "plt.title('任期与出生年份的关系')\n",
    "\n",
    "plt.scatter(data_term_fin['出生年份'], data_term_fin['任期'], color='black', alpha=0.3, s=20) #s表示圆圈的半径\n",
    "plt.xlabel('出生年份')\n",
    "plt.ylabel('任期(年)')\n",
    "# plt.grid(True)\n",
    "plt.show()"
   ]
  },
  {
   "cell_type": "code",
   "execution_count": 125,
   "metadata": {},
   "outputs": [
    {
     "name": "stdout",
     "output_type": "stream",
     "text": [
      "出生年份  1941.0  1942.0  1943.0  1944.0  1945.0  1946.0  1947.0  1948.0  1949.0  \\\n",
      "任期                                                                             \n",
      "0          4       2       6       5       6       7       3       5       7   \n",
      "1          2       3       1       6       3       6       3       6       8   \n",
      "2          0       2       1       4       6       9       5      11      11   \n",
      "3          0       0       0       1       1       4       2       4       7   \n",
      "4          0       0       0       0       2       1       0       0       3   \n",
      "\n",
      "出生年份  1950.0   ...    1957.0  1958.0  1959.0  1960.0  1961.0  1962.0  1963.0  \\\n",
      "任期             ...                                                             \n",
      "0          3   ...         2       2       0       1       1       0       0   \n",
      "1          8   ...        13       6       4       3       1       7       1   \n",
      "2          5   ...        19       9       5       3       9       7       3   \n",
      "3          8   ...         6       5       3       4       1       4       0   \n",
      "4          5   ...         8       2       2       1       1       2       0   \n",
      "\n",
      "出生年份  1964.0  1965.0  1966.0  \n",
      "任期                            \n",
      "0          0       1       0  \n",
      "1          2       0       2  \n",
      "2          4       0       0  \n",
      "3          2       2       0  \n",
      "4          0       1       0  \n",
      "\n",
      "[5 rows x 26 columns]\n"
     ]
    },
    {
     "name": "stderr",
     "output_type": "stream",
     "text": [
      "/Users/jifengzhang/anaconda3/lib/python3.6/site-packages/matplotlib/cbook/deprecation.py:106: MatplotlibDeprecationWarning: Adding an axes using the same arguments as a previous axes currently reuses the earlier instance.  In a future version, a new instance will always be created and returned.  Meanwhile, this warning can be suppressed, and the future behavior ensured, by passing a unique label to each axes instance.\n",
      "  warnings.warn(message, mplDeprecation, stacklevel=1)\n"
     ]
    },
    {
     "data": {
      "image/png": "[encoded data removed]",
      "text/plain": [
       "<matplotlib.figure.Figure at 0x1129561d0>"
      ]
     },
     "metadata": {},
     "output_type": "display_data"
    }
   ],
   "source": [
    "fig_q3_2 = plt.figure(figsize=(8,4))\n",
    "plt.title('任期与出生年份的关系--热图')\n",
    "\n",
    "#整合数据\n",
    "df = pd.crosstab(data_term_fin['任期'], data_term_fin['出生年份'])\n",
    "print(df.head())\n",
    "\n",
    "ax = fig_q3_2.add_subplot(111)\n",
    "cax = ax.pcolor(df, cmap='Blues')\n",
    "fig_q3_2.colorbar(cax)\n",
    "ax.set_xticklabels(data_term_fin['出生年份'].tolist())\n",
    "\n",
    "\n",
    "plt.show()"
   ]
  }
 ],
 "metadata": {
  "kernelspec": {
   "display_name": "Python 3",
   "language": "python",
   "name": "python3"
  },
  "language_info": {
   "codemirror_mode": {
    "name": "ipython",
    "version": 3
   },
   "file_extension": ".py",
   "mimetype": "text/x-python",
   "name": "python",
   "nbconvert_exporter": "python",
   "pygments_lexer": "ipython3",
   "version": "3.6.4"
  }
 },
 "nbformat": 4,
 "nbformat_minor": 2
}
