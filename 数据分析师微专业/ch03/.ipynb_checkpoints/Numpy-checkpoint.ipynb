{
 "cells": [
  {
   "cell_type": "code",
   "execution_count": 2,
   "metadata": {},
   "outputs": [
    {
     "name": "stdout",
     "output_type": "stream",
     "text": [
      "[list([1, 2, 3]) list(['a', 'b', 'c', 'd'])] <class 'numpy.ndarray'>\n",
      "1\n",
      "(2,)\n",
      "2\n",
      "object\n",
      "8\n"
     ]
    }
   ],
   "source": [
    "import numpy as np\n",
    "\n",
    "ar = np.array([[1,2,3],['a','b','c','d']])\n",
    "print(ar, type(ar))\n",
    "print(ar.ndim) #数组维数\n",
    "print(ar.shape) # 2 x 3\n",
    "print(ar.size) # 6 = 2x3\n",
    "print(ar.dtype)\n",
    "print(ar.itemsize)"
   ]
  },
  {
   "cell_type": "code",
   "execution_count": 3,
   "metadata": {},
   "outputs": [
    {
     "name": "stdout",
     "output_type": "stream",
     "text": [
      "[0 1 2 3 4 5 6 7 8 9]\n",
      "[0 1 2 3 4 5 6 7 8 9]\n",
      "[2 3 4 5 6 7 8 9]\n",
      "[2 3 4 5 6 7 8 9]\n",
      "[1 3 5 7 9]\n"
     ]
    }
   ],
   "source": [
    "ar1 = np.array(range(10))\n",
    "print(ar1)\n",
    "ar2 = np.arange(10)\n",
    "print(ar2)\n",
    "\n",
    "ar3 = np.array(range(2,10))\n",
    "print(ar3)\n",
    "ar4 = np.arange(2,10)\n",
    "print(ar4)\n",
    "\n",
    "ar5 = np.array(range(1,10,2))\n",
    "print(ar5)"
   ]
  },
  {
   "cell_type": "code",
   "execution_count": 4,
   "metadata": {},
   "outputs": [
    {
     "name": "stdout",
     "output_type": "stream",
     "text": [
      "[  2.   4.   6.   8.  10.]\n"
     ]
    }
   ],
   "source": [
    "ar1 = np.linspace(2,10,num=5)\n",
    "print(ar1)"
   ]
  },
  {
   "cell_type": "code",
   "execution_count": 12,
   "metadata": {},
   "outputs": [
    {
     "name": "stdout",
     "output_type": "stream",
     "text": [
      "[ 0.  0.  0.  0.  0.]\n",
      "[ 0.  0.  0.]\n",
      "[[0 0]\n",
      " [0 0]\n",
      " [0 0]]\n",
      "[ 1.  1.  1.]\n",
      "[[ 1.  1.  1.]\n",
      " [ 1.  1.  1.]]\n"
     ]
    }
   ],
   "source": [
    "ar1 = np.zeros(5)\n",
    "print(ar1)\n",
    "ar2 = np.zeros((3,))\n",
    "print(ar2)\n",
    "ar3 = np.zeros((3,2), dtype=int)\n",
    "print(ar3)\n",
    "a4 = np.ones(3)\n",
    "print(a4)\n",
    "a5 = np.ones((2,3))\n",
    "print(a5)"
   ]
  },
  {
   "cell_type": "code",
   "execution_count": 56,
   "metadata": {},
   "outputs": [
    {
     "name": "stdout",
     "output_type": "stream",
     "text": [
      "[[ 1.  1.]\n",
      " [ 1.  1.]\n",
      " [ 1.  1.]]\n",
      "[[ 1.  1.  1.  1.  1.]\n",
      " [ 1.  1.  1.  1.  1.]]\n",
      "[[ 1.  1.]\n",
      " [ 1.  1.]\n",
      " [ 1.  1.]\n",
      " [ 1.  1.]\n",
      " [ 1.  1.]]\n",
      "------\n",
      "\n",
      "[[ 0  1  2  3]\n",
      " [ 4  5  6  7]\n",
      " [ 8  9 10 11]]\n",
      "[[ 0  1  2  3]\n",
      " [ 4  5  6  7]\n",
      " [ 8  9 10 11]\n",
      " [12 13 14 15]]\n"
     ]
    }
   ],
   "source": [
    "print(a5.T)\n",
    "\n",
    "a1 = np.ones((2,5))\n",
    "print(a1)\n",
    "print(a1.reshape(5,2))\n",
    "print('------\\n')\n",
    "\n",
    "a2 = np.reshape(np.array(range(12)), (3,4))\n",
    "print(a2)\n",
    "\n",
    "a3 = np.resize(np.array(range(16)),(4,4))\n",
    "print(a3)"
   ]
  },
  {
   "cell_type": "code",
   "execution_count": 27,
   "metadata": {},
   "outputs": [
    {
     "name": "stdout",
     "output_type": "stream",
     "text": [
      "[ 0.  1.  2.  3.  4.  5.  6.  7.  8.  9.] float64\n",
      "[0 1 2 3 4 5 6 7 8 9] int32\n"
     ]
    }
   ],
   "source": [
    "ar1 = np.array(range(10), dtype=np.float)\n",
    "print(ar1, ar1.dtype)\n",
    "ar2 = ar1.astype(np.int32)\n",
    "print(ar2, ar2.dtype)"
   ]
  },
  {
   "cell_type": "code",
   "execution_count": 32,
   "metadata": {},
   "outputs": [
    {
     "name": "stdout",
     "output_type": "stream",
     "text": [
      "[0 1 2 3 4] [5 6 7 8]\n",
      "[0 1 2 3 4 5 6 7 8]\n"
     ]
    }
   ],
   "source": [
    "a = np.arange(5)\n",
    "b = np.arange(5,9)\n",
    "print(a, b)\n",
    "ar1 = np.hstack((a,b))\n",
    "print(ar1)"
   ]
  },
  {
   "cell_type": "code",
   "execution_count": 37,
   "metadata": {},
   "outputs": [
    {
     "name": "stdout",
     "output_type": "stream",
     "text": [
      "[[1]\n",
      " [2]\n",
      " [3]]\n",
      "[['a']\n",
      " ['b']\n",
      " ['c']]\n",
      "[['1' 'a']\n",
      " ['2' 'b']\n",
      " ['3' 'c']]\n"
     ]
    }
   ],
   "source": [
    "a = np.array([[1],[2],[3]])\n",
    "b = np.array([['a'],['b'],['c']])\n",
    "print(a)\n",
    "print(b)\n",
    "ar1 = np.hstack((a,b))\n",
    "print(ar1)\n"
   ]
  },
  {
   "cell_type": "code",
   "execution_count": 42,
   "metadata": {},
   "outputs": [
    {
     "name": "stdout",
     "output_type": "stream",
     "text": [
      "[0 1 2 3 4] [5 6 7 8 9]\n",
      "[[0 1 2 3 4]\n",
      " [5 6 7 8 9]]\n",
      "(2, 5)\n"
     ]
    }
   ],
   "source": [
    "a = np.arange(5)\n",
    "b = np.arange(5,10)\n",
    "ar1 = np.vstack((a,b))\n",
    "print(a, b)\n",
    "print(ar1)\n",
    "print(ar1.shape)"
   ]
  },
  {
   "cell_type": "code",
   "execution_count": 47,
   "metadata": {},
   "outputs": [
    {
     "name": "stdout",
     "output_type": "stream",
     "text": [
      "[[1]\n",
      " [2]\n",
      " [3]]\n",
      "[['a']\n",
      " ['b']\n",
      " ['c']\n",
      " ['d']]\n",
      "[['1']\n",
      " ['2']\n",
      " ['3']\n",
      " ['a']\n",
      " ['b']\n",
      " ['c']\n",
      " ['d']]\n",
      "(7, 1)\n"
     ]
    }
   ],
   "source": [
    "#如果a和b的长度不同，合并后变成一列\n",
    "a = np.array([[1],[2],[3]])\n",
    "b = np.array([['a'],['b'],['c'],['d']])\n",
    "print(a)\n",
    "print(b)\n",
    "ar1 = np.vstack((a,b))\n",
    "print(ar1)\n",
    "print(ar1.shape)"
   ]
  },
  {
   "cell_type": "code",
   "execution_count": 53,
   "metadata": {
    "scrolled": true
   },
   "outputs": [
    {
     "name": "stdout",
     "output_type": "stream",
     "text": [
      "[0 1 2 3 4] [5 6 7 8 9]\n",
      "[[0 1 2 3 4]\n",
      " [5 6 7 8 9]]\n",
      "(2, 5)\n",
      "[[0 5]\n",
      " [1 6]\n",
      " [2 7]\n",
      " [3 8]\n",
      " [4 9]]\n"
     ]
    }
   ],
   "source": [
    "a = np.arange(5)\n",
    "b = np.arange(5,10)\n",
    "print(a,b)\n",
    "# np.stack(arrays, axis=0)\n",
    "ar1 = np.stack((a,b)) #默认是axis=0\n",
    "print(ar1)\n",
    "print(ar1.shape)\n",
    "ar2 = np.stack((a,b), axis=1)\n",
    "print(ar2)"
   ]
  },
  {
   "cell_type": "code",
   "execution_count": 79,
   "metadata": {},
   "outputs": [
    {
     "name": "stdout",
     "output_type": "stream",
     "text": [
      "[[ 0  1  2  3]\n",
      " [ 4  5  6  7]\n",
      " [ 8  9 10 11]\n",
      " [12 13 14 15]]\n",
      "\n",
      "\n",
      "[array([[ 0,  1],\n",
      "       [ 4,  5],\n",
      "       [ 8,  9],\n",
      "       [12, 13]]), array([[ 2,  3],\n",
      "       [ 6,  7],\n",
      "       [10, 11],\n",
      "       [14, 15]])]\n",
      "<class 'list'>\n",
      "\n",
      "\n",
      "[array([[0, 1, 2, 3]]), array([[4, 5, 6, 7]]), array([[ 8,  9, 10, 11]]), array([[12, 13, 14, 15]])]\n",
      "<class 'list'>\n",
      "\n",
      "\n"
     ]
    }
   ],
   "source": [
    "ar = np.arange(16).reshape((4,4))\n",
    "print(ar)\n",
    "print('\\n')\n",
    "ar1 = np.hsplit(ar,2)\n",
    "print(ar1)\n",
    "print(type(ar1))\n",
    "print('\\n')\n",
    "ar2 = np.vsplit(ar,4)\n",
    "print(ar2)\n",
    "print(type(ar2))\n",
    "print('\\n')\n"
   ]
  },
  {
   "cell_type": "code",
   "execution_count": 38,
   "metadata": {},
   "outputs": [
    {
     "name": "stdout",
     "output_type": "stream",
     "text": [
      "[[0 1 2]\n",
      " [3 4 5]]\n",
      "\n",
      "\n",
      "True\n",
      "[[10 11 12]\n",
      " [13 14 15]]\n",
      "False\n",
      "[[ 0  2  4]\n",
      " [ 6  8 10]]\n",
      "[[ 1.          0.5         0.33333333]\n",
      " [ 0.25        0.2         0.16666667]]\n",
      "[[ 0.          1.          1.41421356]\n",
      " [ 1.73205081  2.          2.23606798]]\n",
      "0\n",
      "5\n",
      "15\n",
      "2.5\n",
      "2.91666666667\n",
      "1.70782512766\n",
      "[3 5 7]\n",
      "[ 3 12]\n"
     ]
    }
   ],
   "source": [
    "ar = np.arange(6).reshape(2,3)\n",
    "print(ar)\n",
    "print('\\n')\n",
    "ar2 = ar\n",
    "print(ar2 is ar)\n",
    "ar1 = ar+10\n",
    "print(ar1)\n",
    "print(ar1 is ar)\n",
    "print(ar*2)\n",
    "\n",
    "ar3 = 1/ (ar+1)\n",
    "print(ar3)\n",
    "\n",
    "print(ar**0.5)\n",
    "\n",
    "print(ar.min())\n",
    "print(ar.max())\n",
    "print(ar.sum())\n",
    "print(ar.mean())\n",
    "print(ar.var()) # 方差 = 各数据与平均值的差的平方，求和，再除以数据个数(n)\n",
    "print(ar.std()) #标准差 = sqrt(方差)\n",
    "\n",
    "print(np.sum(ar,axis=0))\n",
    "print(np.sum(ar, axis = 1))"
   ]
  },
  {
   "cell_type": "code",
   "execution_count": 47,
   "metadata": {},
   "outputs": [
    {
     "name": "stdout",
     "output_type": "stream",
     "text": [
      "[[ 0  1  2  3]\n",
      " [ 4  5  6  7]\n",
      " [ 8  9 10 11]\n",
      " [12 13 14 15]]\n",
      "[ 8  9 10 11]\n",
      "6\n",
      "[[ 4  5  6  7]\n",
      " [ 8  9 10 11]]\n",
      "10\n",
      "[[ 5  6]\n",
      " [ 9 10]]\n"
     ]
    }
   ],
   "source": [
    "ar = np.arange(16).reshape((4,4))\n",
    "print(ar)\n",
    "\n",
    "print(ar[2])\n",
    "print(ar[1][2])\n",
    "print(ar[1:3])\n",
    "print(ar[2,2])\n",
    "print(ar[1:3,1:3])"
   ]
  },
  {
   "cell_type": "code",
   "execution_count": 55,
   "metadata": {},
   "outputs": [
    {
     "name": "stdout",
     "output_type": "stream",
     "text": [
      "[[ 0  1  2  3]\n",
      " [ 4  5  6  7]\n",
      " [ 8  9 10 11]]\n",
      "[ True False  True]\n",
      "[ True False False  True]\n",
      "[[ 0  1  2  3]\n",
      " [ 8  9 10 11]]\n",
      "[[ 0  3]\n",
      " [ 4  7]\n",
      " [ 8 11]]\n",
      "[[False False False False]\n",
      " [False False  True  True]\n",
      " [ True  True  True  True]]\n",
      "[ 6  7  8  9 10 11]\n"
     ]
    }
   ],
   "source": [
    "ar = np.arange(12).reshape((3,4))\n",
    "i = np.array([True, False, True])\n",
    "j = np.array([True, False, False, True])\n",
    "print(ar)\n",
    "print(i)\n",
    "print(j)\n",
    "print(ar[i])\n",
    "print(ar[:,j])\n",
    "ar2 = ar > 5\n",
    "print(ar2)\n",
    "print(ar[ar2])"
   ]
  },
  {
   "cell_type": "code",
   "execution_count": 70,
   "metadata": {},
   "outputs": [
    {
     "name": "stdout",
     "output_type": "stream",
     "text": [
      "0.44070687213232496 <class 'float'>\n",
      "[ 0.99107193  0.79287895  0.82253075  0.52489604  0.97956179]\n",
      "[[ 0.77359095  0.84987714  0.97561876]\n",
      " [ 0.24075543  0.60797418  0.76541232]\n",
      " [ 0.24406519  0.41527731  0.91333412]\n",
      " [ 0.35310622  0.95642838  0.5399654 ]\n",
      " [ 0.107222    0.6152455   0.02030737]]\n"
     ]
    }
   ],
   "source": [
    "a = np.random.rand()\n",
    "print(a, type(a))\n",
    "a = np.random.rand(5)\n",
    "print(a)\n",
    "a = np.random.rand(5,3)\n",
    "print(a)"
   ]
  }
 ],
 "metadata": {
  "kernelspec": {
   "display_name": "Python 3",
   "language": "python",
   "name": "python3"
  },
  "language_info": {
   "codemirror_mode": {
    "name": "ipython",
    "version": 3
   },
   "file_extension": ".py",
   "mimetype": "text/x-python",
   "name": "python",
   "nbconvert_exporter": "python",
   "pygments_lexer": "ipython3",
   "version": "3.6.3"
  }
 },
 "nbformat": 4,
 "nbformat_minor": 2
}
