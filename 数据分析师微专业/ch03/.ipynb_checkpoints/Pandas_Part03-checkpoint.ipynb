{
 "cells": [
  {
   "cell_type": "code",
   "execution_count": 2,
   "metadata": {},
   "outputs": [
    {
     "name": "stdout",
     "output_type": "stream",
     "text": [
      "   key1  key2 key3\n",
      "a   4.0   2.0    1\n",
      "b   5.0   9.0    2\n",
      "c   3.0   NaN    3\n",
      "d   NaN   NaN    a\n",
      "e   2.0   5.0    b\n"
     ]
    }
   ],
   "source": [
    "import numpy as np\n",
    "import pandas as pd\n",
    "\n",
    "df = pd.DataFrame({'key1':[4,5,3,np.nan,2],\n",
    "                  'key2':[2,9,np.nan,np.nan,5],\n",
    "                  'key3':[1,2,3,'a','b']},\n",
    "                 index=list('abcde'))\n",
    "print(df)"
   ]
  },
  {
   "cell_type": "code",
   "execution_count": 3,
   "metadata": {},
   "outputs": [
    {
     "name": "stdout",
     "output_type": "stream",
     "text": [
      "float64 float64 object\n"
     ]
    }
   ],
   "source": [
    "print(df['key1'].dtype, df['key2'].dtype, df['key3'].dtype)"
   ]
  },
  {
   "cell_type": "code",
   "execution_count": 4,
   "metadata": {},
   "outputs": [
    {
     "name": "stdout",
     "output_type": "stream",
     "text": [
      "key1    3.500000\n",
      "key2    5.333333\n",
      "dtype: float64 <class 'pandas.core.series.Series'>\n",
      "-------\n",
      "单独对key2列求平均值: 5.333333333333333\n"
     ]
    }
   ],
   "source": [
    "m1 = df.mean() #对列求平均值\n",
    "print(m1, type(m1))\n",
    "print('-------')\n",
    "print('单独对key2列求平均值:', df['key2'].mean())"
   ]
  },
  {
   "cell_type": "code",
   "execution_count": 5,
   "metadata": {},
   "outputs": [
    {
     "name": "stdout",
     "output_type": "stream",
     "text": [
      "a    3.0\n",
      "b    7.0\n",
      "c    3.0\n",
      "d    NaN\n",
      "e    3.5\n",
      "dtype: float64 <class 'pandas.core.series.Series'>\n"
     ]
    }
   ],
   "source": [
    "m2 = df.mean(axis=1) #axis=1对行求平均值\n",
    "print(m2, type(m2))"
   ]
  },
  {
   "cell_type": "code",
   "execution_count": 6,
   "metadata": {},
   "outputs": [
    {
     "name": "stdout",
     "output_type": "stream",
     "text": [
      "key1   NaN\n",
      "key2   NaN\n",
      "dtype: float64\n",
      "a    3.0\n",
      "b    7.0\n",
      "c    NaN\n",
      "d    NaN\n",
      "e    3.5\n",
      "dtype: float64\n"
     ]
    }
   ],
   "source": [
    "#skipna参数：是否忽略NaN，默认是True，如果是False，有NaN的列统计结果仍为Nan\n",
    "m3 = df.mean(skipna=False) \n",
    "print(m3)\n",
    "m4 = df.mean(axis=1,skipna=False)\n",
    "print(m4)"
   ]
  },
  {
   "cell_type": "code",
   "execution_count": 7,
   "metadata": {},
   "outputs": [
    {
     "name": "stdout",
     "output_type": "stream",
     "text": [
      "    key1      key2\n",
      "0      0  1.857629\n",
      "1      1  1.812899\n",
      "2      2  6.871391\n",
      "3      3  6.876110\n",
      "4      4  5.751391\n",
      "5      5  5.096974\n",
      "6      6  0.853670\n",
      "7      7  5.149578\n",
      "8      8  6.541204\n",
      "9      9  4.673399\n",
      "10    10  8.410183\n"
     ]
    }
   ],
   "source": [
    "#主要数学计算方法\n",
    "df = pd.DataFrame({'key1':np.arange(11),\n",
    "                  'key2':np.random.rand(11)*10})\n",
    "\n",
    "print(df)"
   ]
  },
  {
   "cell_type": "code",
   "execution_count": 8,
   "metadata": {},
   "outputs": [
    {
     "name": "stdout",
     "output_type": "stream",
     "text": [
      "key1    11\n",
      "key2    11\n",
      "dtype: int64\n"
     ]
    }
   ],
   "source": [
    "print(df.count())"
   ]
  },
  {
   "cell_type": "code",
   "execution_count": 46,
   "metadata": {},
   "outputs": [
    {
     "name": "stdout",
     "output_type": "stream",
     "text": [
      "    key1      key2\n",
      "0      0  3.645607\n",
      "1      1  4.034001\n",
      "2      2       NaN\n",
      "3      3  8.348921\n",
      "4      4  5.002392\n",
      "5      5  0.991633\n",
      "6      6  0.910818\n",
      "7      7  6.583501\n",
      "8      8  7.259424\n",
      "9      9  5.288712\n",
      "10    10  4.736378\n"
     ]
    },
    {
     "name": "stderr",
     "output_type": "stream",
     "text": [
      "D:\\Anaconda3\\lib\\site-packages\\ipykernel_launcher.py:1: SettingWithCopyWarning: \n",
      "A value is trying to be set on a copy of a slice from a DataFrame\n",
      "\n",
      "See the caveats in the documentation: http://pandas.pydata.org/pandas-docs/stable/indexing.html#indexing-view-versus-copy\n",
      "  \"\"\"Entry point for launching an IPython kernel.\n"
     ]
    }
   ],
   "source": [
    "df['key2'][2] = np.nan\n",
    "print(df)"
   ]
  },
  {
   "cell_type": "code",
   "execution_count": 9,
   "metadata": {},
   "outputs": [
    {
     "name": "stdout",
     "output_type": "stream",
     "text": [
      "key1    11\n",
      "key2    11\n",
      "dtype: int64\n"
     ]
    }
   ],
   "source": [
    "print(df.count()) #统计非Nan值的数量"
   ]
  },
  {
   "cell_type": "code",
   "execution_count": 10,
   "metadata": {},
   "outputs": [
    {
     "name": "stdout",
     "output_type": "stream",
     "text": [
      "key1    0.00000\n",
      "key2    0.85367\n",
      "dtype: float64\n",
      "-----\n",
      "key1    10.000000\n",
      "key2     8.410183\n",
      "dtype: float64\n"
     ]
    }
   ],
   "source": [
    "print(df.min()) #最小值\n",
    "print('-----')\n",
    "print(df.max()) #最大值"
   ]
  },
  {
   "cell_type": "code",
   "execution_count": 11,
   "metadata": {},
   "outputs": [
    {
     "name": "stdout",
     "output_type": "stream",
     "text": [
      "key1    3.000000\n",
      "key2    4.673399\n",
      "Name: 0.3, dtype: float64\n"
     ]
    }
   ],
   "source": [
    "print(df.quantile(q=0.3))"
   ]
  },
  {
   "cell_type": "code",
   "execution_count": 12,
   "metadata": {},
   "outputs": [
    {
     "name": "stdout",
     "output_type": "stream",
     "text": [
      "    key1      key2  key1_s     key2_s\n",
      "0      0  1.857629       0   1.857629\n",
      "1      1  1.812899       1   3.670528\n",
      "2      2  6.871391       3  10.541919\n",
      "3      3  6.876110       6  17.418029\n",
      "4      4  5.751391      10  23.169420\n",
      "5      5  5.096974      15  28.266394\n",
      "6      6  0.853670      21  29.120064\n",
      "7      7  5.149578      28  34.269642\n",
      "8      8  6.541204      36  40.810846\n",
      "9      9  4.673399      45  45.484245\n",
      "10    10  8.410183      55  53.894428\n"
     ]
    }
   ],
   "source": [
    "#cumsum样本的累计和\n",
    "df['key1_s'] = df['key1'].cumsum()\n",
    "df['key2_s'] = df['key2'].cumsum()\n",
    "print(df)"
   ]
  },
  {
   "cell_type": "code",
   "execution_count": 13,
   "metadata": {},
   "outputs": [
    {
     "name": "stdout",
     "output_type": "stream",
     "text": [
      "    key1      key2  key1_s     key2_s\n",
      "0    0.0  1.857629     0.0   1.857629\n",
      "1    1.0  1.857629     1.0   3.670528\n",
      "2    2.0  6.871391     3.0  10.541919\n",
      "3    3.0  6.876110     6.0  17.418029\n",
      "4    4.0  6.876110    10.0  23.169420\n",
      "5    5.0  6.876110    15.0  28.266394\n",
      "6    6.0  6.876110    21.0  29.120064\n",
      "7    7.0  6.876110    28.0  34.269642\n",
      "8    8.0  6.876110    36.0  40.810846\n",
      "9    9.0  6.876110    45.0  45.484245\n",
      "10  10.0  8.410183    55.0  53.894428\n"
     ]
    }
   ],
   "source": [
    "print(df.cummax())"
   ]
  },
  {
   "cell_type": "code",
   "execution_count": 14,
   "metadata": {},
   "outputs": [
    {
     "name": "stdout",
     "output_type": "stream",
     "text": [
      "    key1      key2  key1_s    key2_s\n",
      "0    0.0  1.857629     0.0  1.857629\n",
      "1    0.0  1.812899     0.0  1.857629\n",
      "2    0.0  1.812899     0.0  1.857629\n",
      "3    0.0  1.812899     0.0  1.857629\n",
      "4    0.0  1.812899     0.0  1.857629\n",
      "5    0.0  1.812899     0.0  1.857629\n",
      "6    0.0  0.853670     0.0  1.857629\n",
      "7    0.0  0.853670     0.0  1.857629\n",
      "8    0.0  0.853670     0.0  1.857629\n",
      "9    0.0  0.853670     0.0  1.857629\n",
      "10   0.0  0.853670     0.0  1.857629\n"
     ]
    }
   ],
   "source": [
    "print(df.cummin())"
   ]
  },
  {
   "cell_type": "code",
   "execution_count": 15,
   "metadata": {},
   "outputs": [
    {
     "name": "stdout",
     "output_type": "stream",
     "text": [
      "0     a\n",
      "1     d\n",
      "2     b\n",
      "3     d\n",
      "4     d\n",
      "5     e\n",
      "6     k\n",
      "7     o\n",
      "8     i\n",
      "9     d\n",
      "10    c\n",
      "11    e\n",
      "12    e\n",
      "13    g\n",
      "dtype: object\n"
     ]
    }
   ],
   "source": [
    "s = pd.Series(list('adbddekoidceeg'))\n",
    "print(s)"
   ]
  },
  {
   "cell_type": "code",
   "execution_count": 16,
   "metadata": {},
   "outputs": [
    {
     "name": "stdout",
     "output_type": "stream",
     "text": [
      "['a' 'd' 'b' 'e' 'k' 'o' 'i' 'c' 'g'] <class 'numpy.ndarray'>\n",
      "------\n",
      "0    a\n",
      "1    d\n",
      "2    b\n",
      "3    e\n",
      "4    k\n",
      "5    o\n",
      "6    i\n",
      "7    c\n",
      "8    g\n",
      "dtype: object\n",
      "------\n",
      "['a' 'b' 'c' 'd' 'e' 'g' 'i' 'k' 'o']\n"
     ]
    }
   ],
   "source": [
    "sq = s.unique()\n",
    "print(sq, type(sq))\n",
    "print('------')\n",
    "print(pd.Series(sq))\n",
    "print('------')\n",
    "sq.sort()\n",
    "print(sq)"
   ]
  },
  {
   "cell_type": "code",
   "execution_count": 17,
   "metadata": {},
   "outputs": [
    {
     "name": "stdout",
     "output_type": "stream",
     "text": [
      "0     a\n",
      "1     d\n",
      "2     b\n",
      "3     d\n",
      "4     d\n",
      "5     e\n",
      "6     k\n",
      "7     o\n",
      "8     i\n",
      "9     d\n",
      "10    c\n",
      "11    e\n",
      "12    e\n",
      "13    g\n",
      "dtype: object\n",
      "------\n",
      "o    1\n",
      "a    1\n",
      "c    1\n",
      "d    4\n",
      "k    1\n",
      "b    1\n",
      "i    1\n",
      "e    3\n",
      "g    1\n",
      "dtype: int64\n"
     ]
    }
   ],
   "source": [
    "print(s)\n",
    "print('------')\n",
    "sc = s.value_counts(sort=False)\n",
    "print(sc)"
   ]
  },
  {
   "cell_type": "code",
   "execution_count": 18,
   "metadata": {},
   "outputs": [
    {
     "name": "stdout",
     "output_type": "stream",
     "text": [
      "  gender    name     score\n",
      "0      M    Jack  90-65-92\n",
      "1      M     Tom  89-88-90\n",
      "2      F   Marry  84-50-92\n",
      "3      M    Zack  78-72-79\n",
      "4      F  Heheda  61-62-63\n"
     ]
    }
   ],
   "source": [
    "df = pd.DataFrame([['M','Jack','90-65-92'],\n",
    "                   ['M','Tom','89-88-90'],\n",
    "                   ['F','Marry','84-50-92'],\n",
    "                  ['M','Zack','78-72-79'],\n",
    "                  ['F','Heheda','61-62-63']], columns=['gender','name','score'])\n",
    "print(df)"
   ]
  },
  {
   "cell_type": "code",
   "execution_count": 98,
   "metadata": {},
   "outputs": [
    {
     "name": "stdout",
     "output_type": "stream",
     "text": [
      "  gender    name     score\n",
      "0      m    Jack  90-65-92\n",
      "1      m     Tom  89-88-90\n",
      "2      f   Marry  84-50-92\n",
      "3      m    Zack  78-72-79\n",
      "4      f  Heheda  61-62-63\n"
     ]
    }
   ],
   "source": [
    "df['gender'] = df['gender'].str.lower()\n",
    "print(df)"
   ]
  },
  {
   "cell_type": "code",
   "execution_count": 19,
   "metadata": {},
   "outputs": [
    {
     "name": "stdout",
     "output_type": "stream",
     "text": [
      "  gender    name math english art\n",
      "0      M    Jack   90      65  92\n",
      "1      M     Tom   89      88  90\n",
      "2      F   Marry   84      50  92\n",
      "3      M    Zack   78      72  79\n",
      "4      F  Heheda   61      62  63\n"
     ]
    }
   ],
   "source": [
    "d = df['score'].str.split('-',expand=True)\n",
    "df['math'] = d[0]\n",
    "df['english'] = d[1]\n",
    "df['art'] = d[2]\n",
    "del df['score']\n",
    "print(df)\n",
    "# print(df, type(d))"
   ]
  },
  {
   "cell_type": "code",
   "execution_count": 20,
   "metadata": {},
   "outputs": [
    {
     "name": "stdout",
     "output_type": "stream",
     "text": [
      "    A   B key\n",
      "0  A0  B0  K0\n",
      "1  A1  B1  K1\n",
      "2  A2  B2  K2\n",
      "3  A3  B3  K3\n",
      "----\n",
      "    C   D key\n",
      "0  C0  D0  K0\n",
      "1  C1  D1  K1\n",
      "2  C2  D2  K2\n",
      "3  C3  D3  K3\n",
      "----\n",
      "    A   B key   C   D\n",
      "0  A0  B0  K0  C0  D0\n",
      "1  A1  B1  K1  C1  D1\n",
      "2  A2  B2  K2  C2  D2\n",
      "3  A3  B3  K3  C3  D3\n"
     ]
    }
   ],
   "source": [
    "df1 = pd.DataFrame({'key': ['K0', 'K1', 'K2', 'K3'],\n",
    "                     'A': ['A0', 'A1', 'A2', 'A3'],\n",
    "                     'B': ['B0', 'B1', 'B2', 'B3']})\n",
    "df2 = pd.DataFrame({'key': ['K0', 'K1', 'K2', 'K3'],\n",
    "                      'C': ['C0', 'C1', 'C2', 'C3'],\n",
    "                      'D': ['D0', 'D1', 'D2', 'D3']})\n",
    "print(df1)\n",
    "print('----')\n",
    "print(df2)\n",
    "print('----')\n",
    "print(pd.merge(df1,df2, on='key'))\n"
   ]
  },
  {
   "cell_type": "code",
   "execution_count": 21,
   "metadata": {},
   "outputs": [
    {
     "name": "stdout",
     "output_type": "stream",
     "text": [
      "    A   B key1 key2\n",
      "0  A0  B0   K0   K0\n",
      "1  A1  B1   K0   K1\n",
      "2  A2  B2   K1   K0\n",
      "3  A3  B3   K2   K1\n",
      "----\n",
      "    C   D key1 key2\n",
      "0  C0  D0   K0   K0\n",
      "1  C1  D1   K1   K0\n",
      "2  C2  D2   K1   K0\n",
      "3  C3  D3   K2   K0\n",
      "-----\n",
      "    A   B key1 key2   C   D\n",
      "0  A0  B0   K0   K0  C0  D0\n",
      "1  A2  B2   K1   K0  C1  D1\n",
      "2  A2  B2   K1   K0  C2  D2\n"
     ]
    }
   ],
   "source": [
    "df3 = pd.DataFrame({'key1': ['K0', 'K0', 'K1', 'K2'],\n",
    "                    'key2': ['K0', 'K1', 'K0', 'K1'],\n",
    "                    'A': ['A0', 'A1', 'A2', 'A3'],\n",
    "                    'B': ['B0', 'B1', 'B2', 'B3']})\n",
    "df4 = pd.DataFrame({'key1': ['K0', 'K1', 'K1', 'K2'],\n",
    "                    'key2': ['K0', 'K0', 'K0', 'K0'],\n",
    "                    'C': ['C0', 'C1', 'C2', 'C3'],\n",
    "                    'D': ['D0', 'D1', 'D2', 'D3']})\n",
    "print(df3)\n",
    "print('----')\n",
    "print(df4)\n",
    "print('-----')\n",
    "print(pd.merge(df3,df4, on=['key1','key2']))\n",
    "#key1=k0 key2=k0的df3有1行，df4有1行\n",
    "#key1=k1 key2=k0的df3有1行，df4有2行\n",
    "#所以合并之后结果有3条"
   ]
  },
  {
   "cell_type": "code",
   "execution_count": 22,
   "metadata": {},
   "outputs": [
    {
     "name": "stdout",
     "output_type": "stream",
     "text": [
      "    A   B key1 key2   C   D\n",
      "0  A0  B0   K0   K0  C0  D0\n",
      "1  A2  B2   K1   K0  C1  D1\n",
      "2  A2  B2   K1   K0  C2  D2\n",
      "----\n",
      "     A    B key1 key2    C    D\n",
      "0   A0   B0   K0   K0   C0   D0\n",
      "1   A1   B1   K0   K1  NaN  NaN\n",
      "2   A2   B2   K1   K0   C1   D1\n",
      "3   A2   B2   K1   K0   C2   D2\n",
      "4   A3   B3   K2   K1  NaN  NaN\n",
      "5  NaN  NaN   K2   K0   C3   D3\n",
      "----\n",
      "    A   B key1 key2    C    D\n",
      "0  A0  B0   K0   K0   C0   D0\n",
      "1  A1  B1   K0   K1  NaN  NaN\n",
      "2  A2  B2   K1   K0   C1   D1\n",
      "3  A2  B2   K1   K0   C2   D2\n",
      "4  A3  B3   K2   K1  NaN  NaN\n",
      "----\n",
      "     A    B key1 key2   C   D\n",
      "0   A0   B0   K0   K0  C0  D0\n",
      "1   A2   B2   K1   K0  C1  D1\n",
      "2   A2   B2   K1   K0  C2  D2\n",
      "3  NaN  NaN   K2   K0  C3  D3\n"
     ]
    }
   ],
   "source": [
    "#merge 默认取交集\n",
    "print(pd.merge(df3,df4,on=['key1','key2'],how='inner'))\n",
    "print('----')\n",
    "print(pd.merge(df3, df4, on=['key1','key2'], how='outer')) #并集，缺失的自动补NaN\n",
    "print('----')\n",
    "print(pd.merge(df3,df4, on=['key1','key2'], how='left')) #按照df3为参考合并，数据缺失范围NaN\n",
    "print('----')\n",
    "print(pd.merge(df3,df4, on=['key1','key2'], how='right'))#按照df4为参考合并，数据缺失范围NaN"
   ]
  },
  {
   "cell_type": "code",
   "execution_count": null,
   "metadata": {},
   "outputs": [],
   "source": [
    "# concat"
   ]
  }
 ],
 "metadata": {
  "kernelspec": {
   "display_name": "Python 3",
   "language": "python",
   "name": "python3"
  },
  "language_info": {
   "codemirror_mode": {
    "name": "ipython",
    "version": 3
   },
   "file_extension": ".py",
   "mimetype": "text/x-python",
   "name": "python",
   "nbconvert_exporter": "python",
   "pygments_lexer": "ipython3",
   "version": "3.6.4"
  }
 },
 "nbformat": 4,
 "nbformat_minor": 2
}
