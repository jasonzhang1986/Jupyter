{
 "cells": [
  {
   "cell_type": "markdown",
   "metadata": {},
   "source": [
    "## 课程2.2  Pandas数据结构Series：基本概念及创建\n",
    "### 作业1：分别由字典、数组的方式，创建以下要求的Series\n",
    "<img style=\"float: left;\" src=\"image/pandas/zuoye_221.png\" width=\"20%\">"
   ]
  },
  {
   "cell_type": "code",
   "execution_count": 1,
   "metadata": {},
   "outputs": [
    {
     "name": "stdout",
     "output_type": "stream",
     "text": [
      "使用字典构造：\n",
      "Jack     90.0\n",
      "Marry    92.0\n",
      "Tom      89.0\n",
      "Zack     65.0\n",
      "Name: 作业1, dtype: float64\n",
      "使用数组构造：\n",
      "Jack     90.0\n",
      "Marry    92.0\n",
      "Tom      89.0\n",
      "Zack     65.0\n",
      "Name: 作业1, dtype: float64\n"
     ]
    }
   ],
   "source": [
    "import numpy as np\n",
    "import pandas as pd\n",
    "\n",
    "print('使用字典构造：')\n",
    "dic = {'Jack':90.0, 'Marry':92.0, 'Tom':89.0, 'Zack':65}\n",
    "s1 = pd.Series(dic, name='作业1')\n",
    "print(s1)\n",
    "print('使用数组构造：')\n",
    "s2 = pd.Series([90, 92, 89, 65], dtype=np.float64, index=['Jack', 'Marry','Tom',\"Zack\"], name='作业1')\n",
    "print(s2)\n"
   ]
  },
  {
   "cell_type": "markdown",
   "metadata": {},
   "source": [
    "## 课程2.3  Pandas数据结构Series：索引\n",
    "\n",
    "作业1：创建一个Series，包含10个元素，且每个值为0-100的均匀分布随机值，index为a-j，请分别筛选出：\n",
    "\n",
    "① 标签为b，c的值为多少\n",
    "\n",
    "② Series中第4到6个值是哪些？\n",
    "\n",
    "③ Series中大于50的值有哪些？"
   ]
  },
  {
   "cell_type": "code",
   "execution_count": 16,
   "metadata": {},
   "outputs": [
    {
     "name": "stdout",
     "output_type": "stream",
     "text": [
      "a    24.979445\n",
      "b    45.019017\n",
      "c    61.484358\n",
      "d     1.022724\n",
      "e    50.175364\n",
      "f     2.188447\n",
      "g    39.797344\n",
      "h    52.855301\n",
      "i    14.671726\n",
      "j    32.697474\n",
      "dtype: float64\n",
      "标签为b的值： 45.0190174153\n",
      "标签为c的值： 61.4843579135\n",
      "第4到6个的值为：\n",
      " e    50.175364\n",
      "f     2.188447\n",
      "dtype: float64\n",
      "大于50的值：\n",
      "c    61.484358\n",
      "e    50.175364\n",
      "h    52.855301\n",
      "dtype: float64\n"
     ]
    }
   ],
   "source": [
    "s = pd.Series(np.random.rand(10)*100, index=list('abcdefghij'))\n",
    "print(s)\n",
    "print('标签为b的值：',s['b'])\n",
    "print('标签为c的值：',s['c'])\n",
    "print('第4到6个的值为：\\n', s[4:6])\n",
    "s1 = s > 50\n",
    "print('大于50的值：')\n",
    "print(s[s1])"
   ]
  },
  {
   "cell_type": "markdown",
   "metadata": {},
   "source": [
    "## 课程2.4  Pandas数据结构Series：基本技巧\n",
    "\n",
    "### 作业1：如图创建Series，并按照要求修改得到结果\n",
    "\n",
    "<img style=\"float: left;\" src=\"image/pandas/zuoye_241.png\" width=\"20%\">\n"
   ]
  },
  {
   "cell_type": "code",
   "execution_count": 20,
   "metadata": {},
   "outputs": [
    {
     "name": "stdout",
     "output_type": "stream",
     "text": [
      "创建s为：\n",
      " a    0\n",
      "b    1\n",
      "c    2\n",
      "d    3\n",
      "e    4\n",
      "f    5\n",
      "g    6\n",
      "h    7\n",
      "i    8\n",
      "j    9\n",
      "dtype: int32\n",
      "s修改后：\n",
      " a    100\n",
      "b      1\n",
      "c      2\n",
      "d      3\n",
      "e    100\n",
      "f    100\n",
      "g      6\n",
      "h      7\n",
      "i      8\n",
      "j      9\n",
      "dtype: int32\n"
     ]
    }
   ],
   "source": [
    "s = pd.Series(range(10), index = list('abcdefghij'), dtype=np.int32)\n",
    "print('创建s为：\\n', s)\n",
    "s['a'] = 100\n",
    "s['e':'f'] = 100\n",
    "print('s修改后：\\n', s)"
   ]
  },
  {
   "cell_type": "markdown",
   "metadata": {},
   "source": [
    "### 作业2：已有s1，s2（值为0-10的随机数），请求出s1+s2的值\n",
    "<img style=\"float: left;\" src=\"image/pandas/zuoye_242.png\" width=\"20%\">"
   ]
  },
  {
   "cell_type": "code",
   "execution_count": 22,
   "metadata": {},
   "outputs": [
    {
     "name": "stdout",
     "output_type": "stream",
     "text": [
      "创建s1为：\n",
      " a    5.853278\n",
      "b    0.286449\n",
      "c    9.272792\n",
      "d    1.442792\n",
      "e    1.171780\n",
      "dtype: float64\n",
      "创建s2为：\n",
      " c    6.386701\n",
      "d    8.647587\n",
      "e    4.733574\n",
      "f    3.524822\n",
      "g    0.138038\n",
      "dtype: float64\n",
      "------\n",
      "s1+s2为：\n",
      " a          NaN\n",
      "b          NaN\n",
      "c    15.659493\n",
      "d    10.090380\n",
      "e     5.905354\n",
      "f          NaN\n",
      "g          NaN\n",
      "dtype: float64\n"
     ]
    }
   ],
   "source": [
    "s1 = pd.Series(np.random.rand(5)*10, index=list('abcde'))\n",
    "s2 = pd.Series(np.random.rand(5)*10, index=list('cdefg'))\n",
    "print('创建s1为：\\n', s1)\n",
    "print('创建s2为：\\n', s2)\n",
    "print('------')\n",
    "print('s1+s2为：\\n',s1+s2)"
   ]
  },
  {
   "cell_type": "markdown",
   "metadata": {},
   "source": [
    "## 课程2.5  Pandas数据结构Dataframe：基本概念及创建\n",
    "\n",
    "### 作业1：用四种不同的方法，创建以下Dataframe（保证columns和index一致，值不做要求）\n",
    "<img style=\"float: left;\" src=\"image/pandas/zuoye_251.png\" width=\"20%\">"
   ]
  },
  {
   "cell_type": "code",
   "execution_count": 2,
   "metadata": {},
   "outputs": [
    {
     "name": "stdout",
     "output_type": "stream",
     "text": [
      "用list组成的字典\n",
      "   four  one  three  two\n",
      "a     4    1      3    2\n",
      "b     5    2      4    3\n",
      "c     6    3      5    4\n",
      "d     7    4      6    5\n",
      "e     8    5      7    6\n",
      "-------\n",
      "用Series\n",
      "   four  one  three  two\n",
      "a     4    1      3    2\n",
      "b     5    2      4    3\n",
      "c     6    3      5    4\n",
      "d     7    4      6    5\n",
      "e     8    5      7    6\n",
      "-----\n",
      "用字典组成的列表\n",
      "   four  one  three  two\n",
      "a     4    1      3    2\n",
      "b     5    2      4    3\n",
      "c     6    3      5    4\n",
      "d     7    4      6    5\n",
      "f     8    5      7    6\n",
      "------\n",
      "用字典组成的字典\n",
      "   four  one  three  two\n",
      "a     4    1      3    2\n",
      "b     5    2      4    3\n",
      "c     6    3      5    4\n",
      "d     7    4      6    5\n",
      "e     8    5      7    6\n"
     ]
    }
   ],
   "source": [
    "print('用list组成的字典')\n",
    "data1 = {'one':[1,2,3,4,5],'two':[2,3,4,5,6],'three':[3,4,5,6,7],'four':[4,5,6,7,8]}\n",
    "df1 = pd.DataFrame(data1, index = ['a','b','c','d','e'])\n",
    "print(df1)\n",
    "print('-------')\n",
    "print('用Series')\n",
    "data2 = {\n",
    "    'one':pd.Series([1,2,3,4,5]),\n",
    "    'two':pd.Series([2,3,4,5,6]),\n",
    "    'three':pd.Series([3,4,5,6,7]),\n",
    "    'four':pd.Series([4,5,6,7,8])\n",
    "}\n",
    "df2 = pd.DataFrame(data2)\n",
    "df2.index=['a','b','c','d','e']\n",
    "print(df2)\n",
    "print('-----')\n",
    "print('用字典组成的列表')\n",
    "data3 = [{'one':1,'two':2,'three':3,\"four\":4},{'one':2,'two':3,'three':4,'four':5},{'one':3,'two':4,'three':5,'four':6},{'one':4,'two':5,'three':6,'four':7},{'one':5,'two':6,'three':7,'four':8}]\n",
    "df3 = pd.DataFrame(data3, index = ['a','b','c','d','f'])\n",
    "print(df3)\n",
    "print('------')\n",
    "print('用字典组成的字典')\n",
    "data4 = {'one':{'a':1,'b':2,'c':3,'d':4,'e':5},'two':{'a':2,'b':3,'c':4,'d':5,'e':6},'three':{'a':3,'b':4,'c':5,'d':6,'e':7},'four':{'a':4,'b':5,'c':6,'d':7,'e':8}}\n",
    "df4 = pd.DataFrame(data4)\n",
    "print(df4)"
   ]
  },
  {
   "cell_type": "markdown",
   "metadata": {},
   "source": [
    "## 课程2.6  Pandas数据结构Dataframe：索引\n",
    "\n",
    "作业1：如图创建Dataframe(4*4，值为0-100的随机数)，通过索引得到以下值\n",
    "\n",
    "① 索引得到b，c列的所有值\n",
    "\n",
    "② 索引得到第三第四行的数据\n",
    "\n",
    "③ 按顺序索引得到two，one行的值\n",
    "\n",
    "④ 索引得到大于50的值\n",
    "\n",
    "<img style=\"float: left;\" src=\"image/pandas/zuoye_261.png\" width=\"50%\">"
   ]
  },
  {
   "cell_type": "code",
   "execution_count": 10,
   "metadata": {},
   "outputs": [
    {
     "name": "stdout",
     "output_type": "stream",
     "text": [
      "               a          b          c          d\n",
      "one    53.463665  14.714872  76.723023  51.912183\n",
      "two    43.093101  26.440858  95.902827  59.881992\n",
      "three  16.607557  10.441590  60.790368  77.671951\n",
      "four   15.510059  66.750066  44.220325  59.963845\n",
      "------\n",
      "索引得到b,c列的所有值：\n",
      "                b          c\n",
      "one    14.714872  76.723023\n",
      "two    26.440858  95.902827\n",
      "three  10.441590  60.790368\n",
      "four   66.750066  44.220325\n",
      "索引得到第三第四行的数据：\n",
      "                a          b          c          d\n",
      "three  16.607557  10.441590  60.790368  77.671951\n",
      "four   15.510059  66.750066  44.220325  59.963845\n",
      "按顺序索引得到two，one行的值：\n",
      "              a          b          c          d\n",
      "two  43.093101  26.440858  95.902827  59.881992\n",
      "one  53.463665  14.714872  76.723023  51.912183\n",
      "索引得到大于50的值:\n",
      "                a          b          c          d\n",
      "one    53.463665        NaN  76.723023  51.912183\n",
      "two          NaN        NaN  95.902827  59.881992\n",
      "three        NaN        NaN  60.790368  77.671951\n",
      "four         NaN  66.750066        NaN  59.963845\n"
     ]
    }
   ],
   "source": [
    "df = pd.DataFrame(np.random.rand(16).reshape(4,4)*100, index=['one','two','three','four'], columns=['a','b','c','d'])\n",
    "print(df)\n",
    "print('------')\n",
    "print('索引得到b,c列的所有值：\\n', df[['b','c']])\n",
    "print('索引得到第三第四行的数据：\\n',df.iloc[[2,3]])\n",
    "print('按顺序索引得到two，one行的值：\\n',df.loc[['two','one']])\n",
    "print('索引得到大于50的值:\\n',df[df>50])"
   ]
  },
  {
   "cell_type": "markdown",
   "metadata": {},
   "source": [
    "## 课程2.7  Pandas数据结构Dataframe：基本技巧\n",
    "### 作业1：创建一个3*3，值在0-100区间随机值的Dataframe（如图），分别按照index和第二列值大小，降序排序\n",
    "<img style=\"float: left;\" src=\"image/pandas/zuoye_271.png\" width=\"50%\">"
   ]
  },
  {
   "cell_type": "code",
   "execution_count": 13,
   "metadata": {},
   "outputs": [
    {
     "name": "stdout",
     "output_type": "stream",
     "text": [
      "创建Dataframe为：\n",
      "           v1         v2         v3\n",
      "a  89.829085  17.128207  30.957150\n",
      "b  24.982586   9.164640  64.828653\n",
      "c  12.920953  40.997294  37.583290\n",
      "--------\n",
      "按照index降序排序:\n",
      "           v1         v2         v3\n",
      "c  12.920953  40.997294  37.583290\n",
      "b  24.982586   9.164640  64.828653\n",
      "a  89.829085  17.128207  30.957150\n",
      "按第二列值大小降序排序：\n",
      "           v1         v2         v3\n",
      "c  12.920953  40.997294  37.583290\n",
      "a  89.829085  17.128207  30.957150\n",
      "b  24.982586   9.164640  64.828653\n"
     ]
    }
   ],
   "source": [
    "df = pd.DataFrame(np.random.rand(9).reshape(3,3)*100, index=['a','b','c'], columns=['v1','v2','v3'])\n",
    "print('创建Dataframe为：\\n',df)\n",
    "print('--------')\n",
    "print('按照index降序排序:\\n', df.sort_index(ascending=False))\n",
    "print('按第二列值大小降序排序：\\n', df.sort_values(['v2'], ascending=False))"
   ]
  },
  {
   "cell_type": "markdown",
   "metadata": {},
   "source": [
    "### 作业2：创建一个5*2，值在0-100区间随机值的Dataframe（如图）df1，通过修改得到df2\n",
    "<img style=\"float: left;\" src=\"image/pandas/zuoye_272.png\" width=\"50%\">"
   ]
  },
  {
   "cell_type": "code",
   "execution_count": 2,
   "metadata": {},
   "outputs": [
    {
     "name": "stdout",
     "output_type": "stream",
     "text": [
      "创建Dataframe为:\n",
      "           v1         v2\n",
      "a  29.126382  71.359240\n",
      "b  98.512895  32.715349\n",
      "c  22.870663  13.464756\n",
      "d  87.429329  58.255572\n",
      "e  36.156303  62.873113\n",
      "修改后为：\n",
      "             a    b          c          d\n",
      "v1  29.126382  100  22.870663  87.429329\n",
      "v2  71.359240  100  13.464756  58.255572\n"
     ]
    }
   ],
   "source": [
    "df1 = pd.DataFrame(np.random.rand(10).reshape(5,2)*100, index=list('abcde'), columns=['v1','v2'])\n",
    "print('创建Dataframe为:\\n', df1)\n",
    "df2 = df1.T\n",
    "df2['b'] = 100\n",
    "del df2['e']\n",
    "print('修改后为：\\n',df2)"
   ]
  },
  {
   "cell_type": "code",
   "execution_count": 6,
   "metadata": {},
   "outputs": [
    {
     "name": "stdout",
     "output_type": "stream",
     "text": [
      "请输出当前时间: 2018-03-07 21:09:38.236344\n",
      "------\n",
      "请输出时间： 2017-05-01 12:30:00\n",
      "------\n",
      "请输出时间： 2000-12-01 00:00:00\n"
     ]
    }
   ],
   "source": [
    "#课程2.8 时间模块： datetime 作业\n",
    "#作业1：\n",
    "import datetime\n",
    "print('请输出当前时间:', datetime.datetime.now())\n",
    "print('------')\n",
    "print('请输出时间：', datetime.datetime(2017,5,1,12,30))\n",
    "print('------')\n",
    "print('请输出时间：', datetime.datetime(2000,12,1))"
   ]
  },
  {
   "cell_type": "code",
   "execution_count": 10,
   "metadata": {},
   "outputs": [
    {
     "name": "stdout",
     "output_type": "stream",
     "text": [
      "2000年5月1日之后第1000天是： 2003-01-26\n"
     ]
    }
   ],
   "source": [
    "#作业2 请创建时间变量‘2000年5月1日’，求出1000天之后是哪年哪月哪日？\n",
    "\n",
    "d = datetime.date(2000,5,1)\n",
    "delta = datetime.timedelta(1000)\n",
    "print('2000年5月1日之后第1000天是：', d+delta)"
   ]
  },
  {
   "cell_type": "code",
   "execution_count": 18,
   "metadata": {},
   "outputs": [
    {
     "name": "stdout",
     "output_type": "stream",
     "text": [
      "创建时间列表为：\n",
      " ['2017-12-1', '2017-12-2', '2017-12-3', '2017-12-4', '2017-12-5', '2017-12-6', '2017-12-7', '2017-12-8', '2017-12-9', '2017-12-10', '2017-12-11', '2017-12-12', '2017-12-13', '2017-12-14', '2017-12-15', '2017-12-16', '2017-12-17', '2017-12-18', '2017-12-19', '2017-12-20', '2017-12-21', '2017-12-22', '2017-12-23', '2017-12-24', '2017-12-25', '2017-12-26', '2017-12-27', '2017-12-28', '2017-12-29', '2017-12-30', '2017-12-31']\n",
      "-----\n",
      "转换成DatetimeIndex为：\n",
      " DatetimeIndex(['2017-12-01', '2017-12-02', '2017-12-03', '2017-12-04',\n",
      "               '2017-12-05', '2017-12-06', '2017-12-07', '2017-12-08',\n",
      "               '2017-12-09', '2017-12-10', '2017-12-11', '2017-12-12',\n",
      "               '2017-12-13', '2017-12-14', '2017-12-15', '2017-12-16',\n",
      "               '2017-12-17', '2017-12-18', '2017-12-19', '2017-12-20',\n",
      "               '2017-12-21', '2017-12-22', '2017-12-23', '2017-12-24',\n",
      "               '2017-12-25', '2017-12-26', '2017-12-27', '2017-12-28',\n",
      "               '2017-12-29', '2017-12-30', '2017-12-31'],\n",
      "              dtype='datetime64[ns]', freq=None)\n",
      "------\n",
      "15.0 <class 'float'>\n",
      "月中日期为：\n",
      " 2017-12-16 00:00:00\n"
     ]
    }
   ],
   "source": [
    "#课程2.9 Pandas时刻数据 Timestamp\n",
    "#作业1\n",
    "import pandas as pd\n",
    "\n",
    "datearr = []\n",
    "for i in range(1,32) :\n",
    "    datearr.append('2017-12-'+str(i))\n",
    "print('创建时间列表为：\\n',datearr)\n",
    "print('-----')\n",
    "t = pd.to_datetime(datearr)\n",
    "print('转换成DatetimeIndex为：\\n', t)\n",
    "print('------')\n",
    "index = (len(t)+1)/2-1\n",
    "# print(index,type(index))\n",
    "print('月中日期为：\\n', t[int(index)])\n"
   ]
  }
 ],
 "metadata": {
  "kernelspec": {
   "display_name": "Python 3",
   "language": "python",
   "name": "python3"
  },
  "language_info": {
   "codemirror_mode": {
    "name": "ipython",
    "version": 3
   },
   "file_extension": ".py",
   "mimetype": "text/x-python",
   "name": "python",
   "nbconvert_exporter": "python",
   "pygments_lexer": "ipython3",
   "version": "3.6.3"
  }
 },
 "nbformat": 4,
 "nbformat_minor": 2
}
