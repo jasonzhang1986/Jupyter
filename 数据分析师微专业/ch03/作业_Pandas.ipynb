{
 "cells": [
  {
   "attachments": {},
   "cell_type": "markdown",
   "metadata": {},
   "source": [
    "## 课程2.2  Pandas数据结构Series：基本概念及创建\n",
    "### 作业1：分别由字典、数组的方式，创建以下要求的Series\n",
    "<img style=\"float: left;\" src=\"image/pandas/zuoye_221.png\" width=\"20%\">"
   ]
  },
  {
   "cell_type": "code",
   "execution_count": 7,
   "metadata": {},
   "outputs": [
    {
     "name": "stdout",
     "output_type": "stream",
     "text": [
      "使用字典构造：\n",
      "Jack     90.0\n",
      "Marry    92.0\n",
      "Tom      89.0\n",
      "Zack     65.0\n",
      "Name: 作业1, dtype: float64\n",
      "使用数组构造：\n",
      "Jack     90.0\n",
      "Marry    92.0\n",
      "Tom      89.0\n",
      "Zack     65.0\n",
      "Name: 作业1, dtype: float64\n"
     ]
    }
   ],
   "source": [
    "import numpy as np\n",
    "import pandas as pd\n",
    "\n",
    "print('使用字典构造：')\n",
    "dic = {'Jack':90.0, 'Marry':92.0, 'Tom':89.0, 'Zack':65}\n",
    "s1 = pd.Series(dic, name='作业1')\n",
    "print(s1)\n",
    "print('使用数组构造：')\n",
    "s2 = pd.Series([90, 92, 89, 65], dtype=np.float64, index=['Jack', 'Marry','Tom',\"Zack\"], name='作业1')\n",
    "print(s2)\n"
   ]
  },
  {
   "attachments": {},
   "cell_type": "markdown",
   "metadata": {},
   "source": [
    "## 课程2.3  Pandas数据结构Series：索引\n",
    "\n",
    "作业1：创建一个Series，包含10个元素，且每个值为0-100的均匀分布随机值，index为a-j，请分别筛选出：\n",
    "\n",
    "① 标签为b，c的值为多少\n",
    "\n",
    "② Series中第4到6个值是哪些？\n",
    "\n",
    "③ Series中大于50的值有哪些？"
   ]
  },
  {
   "cell_type": "code",
   "execution_count": 16,
   "metadata": {},
   "outputs": [
    {
     "name": "stdout",
     "output_type": "stream",
     "text": [
      "a    24.979445\n",
      "b    45.019017\n",
      "c    61.484358\n",
      "d     1.022724\n",
      "e    50.175364\n",
      "f     2.188447\n",
      "g    39.797344\n",
      "h    52.855301\n",
      "i    14.671726\n",
      "j    32.697474\n",
      "dtype: float64\n",
      "标签为b的值： 45.0190174153\n",
      "标签为c的值： 61.4843579135\n",
      "第4到6个的值为：\n",
      " e    50.175364\n",
      "f     2.188447\n",
      "dtype: float64\n",
      "大于50的值：\n",
      "c    61.484358\n",
      "e    50.175364\n",
      "h    52.855301\n",
      "dtype: float64\n"
     ]
    }
   ],
   "source": [
    "s = pd.Series(np.random.rand(10)*100, index=list('abcdefghij'))\n",
    "print(s)\n",
    "print('标签为b的值：',s['b'])\n",
    "print('标签为c的值：',s['c'])\n",
    "print('第4到6个的值为：\\n', s[4:6])\n",
    "s1 = s > 50\n",
    "print('大于50的值：')\n",
    "print(s[s1])"
   ]
  },
  {
   "attachments": {},
   "cell_type": "markdown",
   "metadata": {},
   "source": [
    "## 课程2.4  Pandas数据结构Series：基本技巧\n",
    "\n",
    "### 作业1：如图创建Series，并按照要求修改得到结果\n",
    "\n",
    "<img style=\"float: left;\" src=\"image/pandas/zuoye_241.png\" width=\"20%\">\n"
   ]
  },
  {
   "cell_type": "code",
   "execution_count": 20,
   "metadata": {},
   "outputs": [
    {
     "name": "stdout",
     "output_type": "stream",
     "text": [
      "创建s为：\n",
      " a    0\n",
      "b    1\n",
      "c    2\n",
      "d    3\n",
      "e    4\n",
      "f    5\n",
      "g    6\n",
      "h    7\n",
      "i    8\n",
      "j    9\n",
      "dtype: int32\n",
      "s修改后：\n",
      " a    100\n",
      "b      1\n",
      "c      2\n",
      "d      3\n",
      "e    100\n",
      "f    100\n",
      "g      6\n",
      "h      7\n",
      "i      8\n",
      "j      9\n",
      "dtype: int32\n"
     ]
    }
   ],
   "source": [
    "s = pd.Series(range(10), index = list('abcdefghij'), dtype=np.int32)\n",
    "print('创建s为：\\n', s)\n",
    "s['a'] = 100\n",
    "s['e':'f'] = 100\n",
    "print('s修改后：\\n', s)"
   ]
  },
  {
   "attachments": {},
   "cell_type": "markdown",
   "metadata": {},
   "source": [
    "### 作业2：已有s1，s2（值为0-10的随机数），请求出s1+s2的值\n",
    "<img style=\"float: left;\" src=\"image/pandas/zuoye_242.png\" width=\"20%\">"
   ]
  },
  {
   "cell_type": "code",
   "execution_count": 22,
   "metadata": {},
   "outputs": [
    {
     "name": "stdout",
     "output_type": "stream",
     "text": [
      "创建s1为：\n",
      " a    5.853278\n",
      "b    0.286449\n",
      "c    9.272792\n",
      "d    1.442792\n",
      "e    1.171780\n",
      "dtype: float64\n",
      "创建s2为：\n",
      " c    6.386701\n",
      "d    8.647587\n",
      "e    4.733574\n",
      "f    3.524822\n",
      "g    0.138038\n",
      "dtype: float64\n",
      "------\n",
      "s1+s2为：\n",
      " a          NaN\n",
      "b          NaN\n",
      "c    15.659493\n",
      "d    10.090380\n",
      "e     5.905354\n",
      "f          NaN\n",
      "g          NaN\n",
      "dtype: float64\n"
     ]
    }
   ],
   "source": [
    "s1 = pd.Series(np.random.rand(5)*10, index=list('abcde'))\n",
    "s2 = pd.Series(np.random.rand(5)*10, index=list('cdefg'))\n",
    "print('创建s1为：\\n', s1)\n",
    "print('创建s2为：\\n', s2)\n",
    "print('------')\n",
    "print('s1+s2为：\\n',s1+s2)"
   ]
  },
  {
   "cell_type": "markdown",
   "metadata": {},
   "source": [
    "## 课程2.5  Pandas数据结构Dataframe：基本概念及创建\n",
    "\n",
    "### 作业1：用四种不同的方法，创建以下Dataframe（保证columns和index一致，值不做要求）\n",
    "<img style=\"float: left;\" src=\"image/pandas/zuoye_251.png\" width=\"20%\">"
   ]
  },
  {
   "cell_type": "code",
   "execution_count": null,
   "metadata": {
    "collapsed": true
   },
   "outputs": [],
   "source": []
  },
  {
   "attachments": {},
   "cell_type": "markdown",
   "metadata": {},
   "source": [
    "## 课程2.6  Pandas数据结构Dataframe：索引\n",
    "\n",
    "作业1：如图创建Dataframe(4*4，值为0-100的随机数)，通过索引得到以下值\n",
    "\n",
    "① 索引得到b，c列的所有值\n",
    "\n",
    "② 索引得到第三第四行的数据\n",
    "\n",
    "③ 按顺序索引得到two，one行的值\n",
    "\n",
    "④ 索引得到大于50的值\n",
    "\n",
    "<img style=\"float: left;\" src=\"image/pandas/zuoye_261.png\" width=\"50%\">"
   ]
  },
  {
   "cell_type": "code",
   "execution_count": null,
   "metadata": {
    "collapsed": true
   },
   "outputs": [],
   "source": []
  },
  {
   "attachments": {},
   "cell_type": "markdown",
   "metadata": {},
   "source": [
    "## 课程2.7  Pandas数据结构Dataframe：基本技巧\n",
    "### 作业1：创建一个3*3，值在0-100区间随机值的Dataframe（如图），分别按照index和第二列值大小，降序排序\n",
    "<img style=\"float: left;\" src=\"image/pandas/zuoye_271.png\" width=\"50%\">"
   ]
  },
  {
   "cell_type": "code",
   "execution_count": null,
   "metadata": {
    "collapsed": true
   },
   "outputs": [],
   "source": []
  },
  {
   "attachments": {},
   "cell_type": "markdown",
   "metadata": {},
   "source": [
    "### 作业2：创建一个5*2，值在0-100区间随机值的Dataframe（如图）df1，通过修改得到df2\n",
    "<img style=\"float: left;\" src=\"image/pandas/zuoye_271.png\" width=\"50%\">"
   ]
  },
  {
   "cell_type": "code",
   "execution_count": null,
   "metadata": {
    "collapsed": true
   },
   "outputs": [],
   "source": []
  }
 ],
 "metadata": {
  "kernelspec": {
   "display_name": "Python 3",
   "language": "python",
   "name": "python3"
  },
  "language_info": {
   "codemirror_mode": {
    "name": "ipython",
    "version": 3
   },
   "file_extension": ".py",
   "mimetype": "text/x-python",
   "name": "python",
   "nbconvert_exporter": "python",
   "pygments_lexer": "ipython3",
   "version": "3.6.3"
  }
 },
 "nbformat": 4,
 "nbformat_minor": 2
}
