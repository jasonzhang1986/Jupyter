{
 "cells": [
  {
   "cell_type": "code",
   "execution_count": 2,
   "metadata": {},
   "outputs": [],
   "source": [
    "import numpy as np\n",
    "import pandas as pd"
   ]
  },
  {
   "cell_type": "code",
   "execution_count": 11,
   "metadata": {},
   "outputs": [
    {
     "name": "stdout",
     "output_type": "stream",
     "text": [
      "[ 0.79603471  0.3458413   0.18513834  0.48551011  0.1235916 ]\n",
      "0    0.796035\n",
      "1    0.345841\n",
      "2    0.185138\n",
      "3    0.485510\n",
      "4    0.123592\n",
      "dtype: float64\n",
      "<class 'pandas.core.series.Series'>\n",
      "RangeIndex(start=0, stop=5, step=1)\n",
      "[ 0.79603471  0.3458413   0.18513834  0.48551011  0.1235916 ] <class 'numpy.ndarray'>\n"
     ]
    }
   ],
   "source": [
    "ar = np.random.rand(5)\n",
    "print(ar)\n",
    "s = pd.Series(ar)\n",
    "print(s)\n",
    "print(type(s))\n",
    "print(s.index)\n",
    "print(s.values, type(s.values))"
   ]
  },
  {
   "cell_type": "code",
   "execution_count": 13,
   "metadata": {},
   "outputs": [
    {
     "name": "stdout",
     "output_type": "stream",
     "text": [
      "a    1\n",
      "b    2\n",
      "c    3\n",
      "dtype: int64\n"
     ]
    }
   ],
   "source": [
    "dic = {'a':1, 'b':2, 'c':3}\n",
    "s = pd.Series(dic)\n",
    "print(s)"
   ]
  },
  {
   "cell_type": "code",
   "execution_count": 20,
   "metadata": {},
   "outputs": [
    {
     "name": "stdout",
     "output_type": "stream",
     "text": [
      "[ 0.27497181  0.20759129  0.42747388  0.22748759  0.18798213  0.63447497\n",
      "  0.42584911  0.81500094  0.31914317  0.00447923]\n",
      "0    0.274972\n",
      "1    0.207591\n",
      "2    0.427474\n",
      "3    0.227488\n",
      "4    0.187982\n",
      "5    0.634475\n",
      "6    0.425849\n",
      "7    0.815001\n",
      "8    0.319143\n",
      "9    0.004479\n",
      "dtype: float64\n",
      "a    0.274972\n",
      "b    0.207591\n",
      "c    0.427474\n",
      "d    0.227488\n",
      "e    0.187982\n",
      "f    0.634475\n",
      "g    0.425849\n",
      "h    0.815001\n",
      "i    0.319143\n",
      "j    0.004479\n",
      "dtype: float64\n"
     ]
    }
   ],
   "source": [
    "ar = np.random.rand(10)\n",
    "print(ar)\n",
    "s = pd.Series(ar)\n",
    "print(s)\n",
    "s = pd.Series(ar, index=list('abcdefghij'))\n",
    "print(s)"
   ]
  },
  {
   "cell_type": "code",
   "execution_count": 22,
   "metadata": {},
   "outputs": [
    {
     "name": "stdout",
     "output_type": "stream",
     "text": [
      "0    10\n",
      "1    10\n",
      "2    10\n",
      "3    10\n",
      "dtype: int64\n"
     ]
    }
   ],
   "source": [
    "s = pd.Series(10, index=range(4))\n",
    "print(s)"
   ]
  },
  {
   "cell_type": "code",
   "execution_count": 31,
   "metadata": {},
   "outputs": [
    {
     "name": "stdout",
     "output_type": "stream",
     "text": [
      "0    0.971840\n",
      "1    0.762705\n",
      "2    0.583635\n",
      "3    0.797500\n",
      "4    0.270591\n",
      "dtype: float64\n",
      "-----\n",
      "0.762705034896 <class 'numpy.float64'>\n",
      "0    0.971840\n",
      "1    0.762705\n",
      "2    0.583635\n",
      "dtype: float64\n",
      "0    0.971840\n",
      "1    0.762705\n",
      "2    0.583635\n",
      "3    0.797500\n",
      "4    0.270591\n",
      "dtype: float64\n",
      "1    0.762705\n",
      "dtype: float64\n",
      "2    0.583635\n",
      "3    0.797500\n",
      "dtype: float64\n"
     ]
    }
   ],
   "source": [
    "s = pd.Series(np.random.rand(5))\n",
    "print(s)\n",
    "print('-----')\n",
    "print(s[1], type(s[1])) #索引\n",
    "print(s[0:3])\n",
    "print(s[::])\n",
    "print(s[1:2])\n",
    "print(s[2:-1])"
   ]
  },
  {
   "cell_type": "code",
   "execution_count": 36,
   "metadata": {},
   "outputs": [
    {
     "name": "stdout",
     "output_type": "stream",
     "text": [
      "a    0.569990\n",
      "b    0.774204\n",
      "c    0.733106\n",
      "d    0.576168\n",
      "e    0.271011\n",
      "f    0.563963\n",
      "dtype: float64\n",
      "0.774203737622 <class 'numpy.float64'>\n",
      "b    0.774204\n",
      "c    0.733106\n",
      "dtype: float64\n",
      "----\n",
      "d    0.576168\n",
      "c    0.733106\n",
      "e    0.271011\n",
      "a    0.569990\n",
      "f    0.563963\n",
      "b    0.774204\n",
      "dtype: float64\n",
      "a    0.569990\n",
      "d    0.576168\n",
      "f    0.563963\n",
      "e    0.271011\n",
      "g         NaN\n",
      "g         NaN\n",
      "dtype: float64\n",
      "a    0.569990\n",
      "d    0.576168\n",
      "f    0.563963\n",
      "e    0.271011\n",
      "g    0.000000\n",
      "g    0.000000\n",
      "dtype: float64\n"
     ]
    }
   ],
   "source": [
    "s = pd.Series(np.random.rand(6), index = list('abcdef'))\n",
    "print(s)\n",
    "print(s['b'], type(s['b'])) #标签\n",
    "print(s['b':'c'])\n",
    "\n",
    "print('----')\n",
    "print(s.reindex(list('dceafb')))\n",
    "print(s.reindex(list('adfegg')))\n",
    "print(s.reindex(list('adfegg'), fill_value=0))"
   ]
  },
  {
   "cell_type": "code",
   "execution_count": 39,
   "metadata": {},
   "outputs": [
    {
     "name": "stdout",
     "output_type": "stream",
     "text": [
      "Tom      0.752802\n",
      "Jack     0.424524\n",
      "Katte    0.501956\n",
      "Rose     0.228205\n",
      "dtype: float64\n",
      "Marry    0.451413\n",
      "Wang     0.097779\n",
      "Katte    0.542081\n",
      "Rose     0.456654\n",
      "dtype: float64\n",
      "-----\n",
      "Jack          NaN\n",
      "Katte    1.044038\n",
      "Marry         NaN\n",
      "Rose     0.684860\n",
      "Tom           NaN\n",
      "Wang          NaN\n",
      "dtype: float64\n"
     ]
    }
   ],
   "source": [
    "s1 = pd.Series(np.random.rand(4), index = ['Tom', 'Jack', 'Katte', 'Rose'])\n",
    "s2 = pd.Series(np.random.rand(4), index = ['Marry', 'Wang', 'Katte', 'Rose'])\n",
    "print(s1)\n",
    "print(s2)\n",
    "print('-----')\n",
    "print(s1+s2) # 标签对其，空值和任何值计算结果仍为空值"
   ]
  }
 ],
 "metadata": {
  "kernelspec": {
   "display_name": "Python 3",
   "language": "python",
   "name": "python3"
  },
  "language_info": {
   "codemirror_mode": {
    "name": "ipython",
    "version": 3
   },
   "file_extension": ".py",
   "mimetype": "text/x-python",
   "name": "python",
   "nbconvert_exporter": "python",
   "pygments_lexer": "ipython3",
   "version": "3.6.3"
  }
 },
 "nbformat": 4,
 "nbformat_minor": 2
}
