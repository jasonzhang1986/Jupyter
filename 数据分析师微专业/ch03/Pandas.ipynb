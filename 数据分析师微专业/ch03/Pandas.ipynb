{
 "cells": [
  {
   "cell_type": "code",
   "execution_count": 2,
   "metadata": {},
   "outputs": [],
   "source": [
    "import numpy as np\n",
    "import pandas as pd"
   ]
  },
  {
   "cell_type": "code",
   "execution_count": 11,
   "metadata": {},
   "outputs": [
    {
     "name": "stdout",
     "output_type": "stream",
     "text": [
      "[ 0.79603471  0.3458413   0.18513834  0.48551011  0.1235916 ]\n",
      "0    0.796035\n",
      "1    0.345841\n",
      "2    0.185138\n",
      "3    0.485510\n",
      "4    0.123592\n",
      "dtype: float64\n",
      "<class 'pandas.core.series.Series'>\n",
      "RangeIndex(start=0, stop=5, step=1)\n",
      "[ 0.79603471  0.3458413   0.18513834  0.48551011  0.1235916 ] <class 'numpy.ndarray'>\n"
     ]
    }
   ],
   "source": [
    "ar = np.random.rand(5)\n",
    "print(ar)\n",
    "s = pd.Series(ar)\n",
    "print(s)\n",
    "print(type(s))\n",
    "print(s.index)\n",
    "print(s.values, type(s.values))"
   ]
  },
  {
   "cell_type": "code",
   "execution_count": 13,
   "metadata": {},
   "outputs": [
    {
     "name": "stdout",
     "output_type": "stream",
     "text": [
      "a    1\n",
      "b    2\n",
      "c    3\n",
      "dtype: int64\n"
     ]
    }
   ],
   "source": [
    "dic = {'a':1, 'b':2, 'c':3}\n",
    "s = pd.Series(dic)\n",
    "print(s)"
   ]
  },
  {
   "cell_type": "code",
   "execution_count": 20,
   "metadata": {},
   "outputs": [
    {
     "name": "stdout",
     "output_type": "stream",
     "text": [
      "[ 0.27497181  0.20759129  0.42747388  0.22748759  0.18798213  0.63447497\n",
      "  0.42584911  0.81500094  0.31914317  0.00447923]\n",
      "0    0.274972\n",
      "1    0.207591\n",
      "2    0.427474\n",
      "3    0.227488\n",
      "4    0.187982\n",
      "5    0.634475\n",
      "6    0.425849\n",
      "7    0.815001\n",
      "8    0.319143\n",
      "9    0.004479\n",
      "dtype: float64\n",
      "a    0.274972\n",
      "b    0.207591\n",
      "c    0.427474\n",
      "d    0.227488\n",
      "e    0.187982\n",
      "f    0.634475\n",
      "g    0.425849\n",
      "h    0.815001\n",
      "i    0.319143\n",
      "j    0.004479\n",
      "dtype: float64\n"
     ]
    }
   ],
   "source": [
    "ar = np.random.rand(10)\n",
    "print(ar)\n",
    "s = pd.Series(ar)\n",
    "print(s)\n",
    "s = pd.Series(ar, index=list('abcdefghij'))\n",
    "print(s)"
   ]
  },
  {
   "cell_type": "code",
   "execution_count": 22,
   "metadata": {},
   "outputs": [
    {
     "name": "stdout",
     "output_type": "stream",
     "text": [
      "0    10\n",
      "1    10\n",
      "2    10\n",
      "3    10\n",
      "dtype: int64\n"
     ]
    }
   ],
   "source": [
    "s = pd.Series(10, index=range(4))\n",
    "print(s)"
   ]
  },
  {
   "cell_type": "code",
   "execution_count": 31,
   "metadata": {},
   "outputs": [
    {
     "name": "stdout",
     "output_type": "stream",
     "text": [
      "0    0.971840\n",
      "1    0.762705\n",
      "2    0.583635\n",
      "3    0.797500\n",
      "4    0.270591\n",
      "dtype: float64\n",
      "-----\n",
      "0.762705034896 <class 'numpy.float64'>\n",
      "0    0.971840\n",
      "1    0.762705\n",
      "2    0.583635\n",
      "dtype: float64\n",
      "0    0.971840\n",
      "1    0.762705\n",
      "2    0.583635\n",
      "3    0.797500\n",
      "4    0.270591\n",
      "dtype: float64\n",
      "1    0.762705\n",
      "dtype: float64\n",
      "2    0.583635\n",
      "3    0.797500\n",
      "dtype: float64\n"
     ]
    }
   ],
   "source": [
    "s = pd.Series(np.random.rand(5))\n",
    "print(s)\n",
    "print('-----')\n",
    "print(s[1], type(s[1])) #索引\n",
    "print(s[0:3])\n",
    "print(s[::])\n",
    "print(s[1:2])\n",
    "print(s[2:-1])"
   ]
  },
  {
   "cell_type": "code",
   "execution_count": 36,
   "metadata": {},
   "outputs": [
    {
     "name": "stdout",
     "output_type": "stream",
     "text": [
      "a    0.569990\n",
      "b    0.774204\n",
      "c    0.733106\n",
      "d    0.576168\n",
      "e    0.271011\n",
      "f    0.563963\n",
      "dtype: float64\n",
      "0.774203737622 <class 'numpy.float64'>\n",
      "b    0.774204\n",
      "c    0.733106\n",
      "dtype: float64\n",
      "----\n",
      "d    0.576168\n",
      "c    0.733106\n",
      "e    0.271011\n",
      "a    0.569990\n",
      "f    0.563963\n",
      "b    0.774204\n",
      "dtype: float64\n",
      "a    0.569990\n",
      "d    0.576168\n",
      "f    0.563963\n",
      "e    0.271011\n",
      "g         NaN\n",
      "g         NaN\n",
      "dtype: float64\n",
      "a    0.569990\n",
      "d    0.576168\n",
      "f    0.563963\n",
      "e    0.271011\n",
      "g    0.000000\n",
      "g    0.000000\n",
      "dtype: float64\n"
     ]
    }
   ],
   "source": [
    "s = pd.Series(np.random.rand(6), index = list('abcdef'))\n",
    "print(s)\n",
    "print(s['b'], type(s['b'])) #标签\n",
    "print(s['b':'c'])\n",
    "\n",
    "print('----')\n",
    "print(s.reindex(list('dceafb')))\n",
    "print(s.reindex(list('adfegg')))\n",
    "print(s.reindex(list('adfegg'), fill_value=0))"
   ]
  },
  {
   "cell_type": "code",
   "execution_count": 40,
   "metadata": {},
   "outputs": [
    {
     "name": "stdout",
     "output_type": "stream",
     "text": [
      "Tom      0.850021\n",
      "Jack     0.368426\n",
      "Katte    0.676393\n",
      "Rose     0.221380\n",
      "dtype: float64\n",
      "Marry    0.503561\n",
      "Wang     0.037401\n",
      "Katte    0.655854\n",
      "Rose     0.518726\n",
      "dtype: float64\n",
      "-----\n",
      "Jack          NaN\n",
      "Katte    1.332247\n",
      "Marry         NaN\n",
      "Rose     0.740106\n",
      "Tom           NaN\n",
      "Wang          NaN\n",
      "dtype: float64\n"
     ]
    }
   ],
   "source": [
    "s1 = pd.Series(np.random.rand(4), index = ['Tom', 'Jack', 'Katte', 'Rose'])\n",
    "s2 = pd.Series(np.random.rand(4), index = ['Marry', 'Wang', 'Katte', 'Rose'])\n",
    "print(s1)\n",
    "print(s2)\n",
    "print('-----')\n",
    "print(s1+s2) # 标签对其，空值和任何值计算结果仍为空值"
   ]
  },
  {
   "cell_type": "code",
   "execution_count": 49,
   "metadata": {},
   "outputs": [
    {
     "name": "stdout",
     "output_type": "stream",
     "text": [
      "   age  gender   name\n",
      "0   18    male   Jack\n",
      "1   23  female   Rose\n",
      "2   24  female  Marry <class 'pandas.core.frame.DataFrame'>\n",
      "RangeIndex(start=0, stop=3, step=1)\n",
      "Index(['age', 'gender', 'name'], dtype='object')\n",
      "[[18 'male' 'Jack']\n",
      " [23 'female' 'Rose']\n",
      " [24 'female' 'Marry']]\n"
     ]
    }
   ],
   "source": [
    "# DataFrame\n",
    "data = {\n",
    "    'name':['Jack','Rose','Marry'],\n",
    "    'age':[18,23,24],\n",
    "    'gender':['male','female','female']\n",
    "}\n",
    "frame = pd.DataFrame(data)\n",
    "print(frame, type(frame))\n",
    "print(frame.index)\n",
    "print(frame.columns)\n",
    "print(frame.values)"
   ]
  },
  {
   "cell_type": "code",
   "execution_count": 56,
   "metadata": {},
   "outputs": [
    {
     "name": "stdout",
     "output_type": "stream",
     "text": [
      "        one       two\n",
      "0  0.298921  0.141359\n",
      "1  0.280752  0.120983\n",
      "2  0.112130  0.397396\n",
      "   a  b  c\n",
      "0  1  4  7\n",
      "1  2  5  8\n",
      "2  3  6  9\n",
      "   a  b    d\n",
      "0  1  4  NaN\n",
      "1  2  5  NaN\n",
      "2  3  6  NaN\n",
      "   a  b  c\n",
      "d  1  4  7\n",
      "e  2  5  8\n",
      "f  3  6  9\n"
     ]
    }
   ],
   "source": [
    "data = {'one':np.random.rand(3),\n",
    "       'two':np.random.rand(3)} #个数必现相同\n",
    "frame = pd.DataFrame(data)\n",
    "print(frame)\n",
    "\n",
    "data1 = {\n",
    "    'a':[1,2,3],\n",
    "    'b':[4,5,6],\n",
    "    'c':[7,8,9]\n",
    "}\n",
    "#这里的key是column name\n",
    "frame1 = pd.DataFrame(data1)\n",
    "print(frame1)\n",
    "\n",
    "df1 = pd.DataFrame(data1, columns=['a','b','d']) #重新制定column，实际上筛选出column是a和b的列，没有的d列值为Nan\n",
    "print(df1)\n",
    "\n",
    "df2 = pd.DataFrame(data1, index=['d','e','f'])\n",
    "print(df2)"
   ]
  },
  {
   "cell_type": "code",
   "execution_count": 60,
   "metadata": {},
   "outputs": [
    {
     "name": "stdout",
     "output_type": "stream",
     "text": [
      "        one       two\n",
      "0  0.083369  0.163361\n",
      "1  0.442608  0.392231\n",
      "2       NaN  0.803918\n",
      "        one       two\n",
      "a  0.335684  0.155025\n",
      "b  0.383260  0.354414\n",
      "c       NaN  0.461209\n"
     ]
    }
   ],
   "source": [
    "data = {\n",
    "    'one':pd.Series(np.random.rand(2)),\n",
    "    'two':pd.Series(np.random.rand(3)) #使用Series生成DataFrame可以不一样长\n",
    "}\n",
    "frame = pd.DataFrame(data)\n",
    "print(frame)\n",
    "\n",
    "data1 = {\n",
    "    'one':pd.Series(np.random.rand(2), index=['a','b']),\n",
    "    'two':pd.Series(np.random.rand(3), index=['a','b','c'])\n",
    "}\n",
    "frame1 = pd.DataFrame(data1)\n",
    "print(frame1)"
   ]
  },
  {
   "cell_type": "code",
   "execution_count": 69,
   "metadata": {},
   "outputs": [
    {
     "name": "stdout",
     "output_type": "stream",
     "text": [
      "[[ 0  1  2  3]\n",
      " [ 4  5  6  7]\n",
      " [ 8  9 10 11]]\n",
      "   0  1   2   3\n",
      "0  0  1   2   3\n",
      "1  4  5   6   7\n",
      "2  8  9  10  11\n",
      "----\n",
      "   a  b   c   d\n",
      "2  0  1   2   3\n",
      "3  4  5   6   7\n",
      "4  8  9  10  11\n"
     ]
    }
   ],
   "source": [
    "data = np.arange(12).reshape(3,4)\n",
    "print(data)\n",
    "frame = pd.DataFrame(data)\n",
    "print(frame) #通过二维数据创建DataFrame\n",
    "print('----')\n",
    "frame1 = pd.DataFrame(data, columns=['a','b','c','d'], index=[2,3,4])\n",
    "print(frame1)"
   ]
  },
  {
   "cell_type": "code",
   "execution_count": 73,
   "metadata": {},
   "outputs": [
    {
     "name": "stdout",
     "output_type": "stream",
     "text": [
      "[{'a': 1, 'b': 2}, {'a': 3, 'b': 4}, {'a': 5, 'b': 6, 'c': 7}]\n",
      "------\n",
      "   a  b    c\n",
      "0  1  2  NaN\n",
      "1  3  4  NaN\n",
      "2  5  6  7.0\n"
     ]
    }
   ],
   "source": [
    "data = [{'a':1,'b':2},{'a':3,'b':4},{'a':5,'b':6,'c':7}]\n",
    "print(data)\n",
    "print('------')\n",
    "frame = pd.DataFrame(data)\n",
    "print(frame)"
   ]
  },
  {
   "cell_type": "code",
   "execution_count": 76,
   "metadata": {},
   "outputs": [
    {
     "name": "stdout",
     "output_type": "stream",
     "text": [
      "{'Jack': {'math': 90, 'english': 75, 'art': 89}, 'Mary': {'math': 97, 'english': 88, 'art': 90}, 'Tom': {'english': 89, 'art': 79}}\n",
      "-----\n",
      "         Jack  Mary   Tom\n",
      "art        89    90  79.0\n",
      "english    75    88  89.0\n",
      "math       90    97   NaN\n"
     ]
    }
   ],
   "source": [
    "data = {\n",
    "    'Jack':{'math':90,'english':75,'art':89},\n",
    "    'Mary':{'math':97,'english':88,'art':90},\n",
    "    'Tom':{'english':89,'art':79}\n",
    "}\n",
    "print(data)\n",
    "print('-----')\n",
    "frame = pd.DataFrame(data)\n",
    "print(frame)"
   ]
  },
  {
   "cell_type": "code",
   "execution_count": 108,
   "metadata": {},
   "outputs": [
    {
     "name": "stdout",
     "output_type": "stream",
     "text": [
      "               a          b          c          d\n",
      "one     4.501804  38.849194  81.447949   7.538959\n",
      "two    54.537390  45.209564  69.856019  85.245189\n",
      "three  17.136368  61.864907  90.524363  30.302834\n",
      "----\n",
      "one       4.501804\n",
      "two      54.537390\n",
      "three    17.136368\n",
      "Name: a, dtype: float64 <class 'pandas.core.series.Series'>\n",
      "               a          c\n",
      "one     4.501804  81.447949\n",
      "two    54.537390  69.856019\n",
      "three  17.136368  90.524363 <class 'pandas.core.frame.DataFrame'>\n",
      "----\n",
      "a     4.501804\n",
      "b    38.849194\n",
      "c    81.447949\n",
      "d     7.538959\n",
      "Name: one, dtype: float64 <class 'pandas.core.series.Series'>\n",
      "               a          b          c          d\n",
      "one     4.501804  38.849194  81.447949   7.538959\n",
      "three  17.136368  61.864907  90.524363  30.302834 <class 'pandas.core.frame.DataFrame'>\n",
      "-----#####\n",
      "            a          b          c         d\n",
      "one  4.501804  38.849194  81.447949  7.538959\n",
      "             a          b          c          d\n",
      "one   4.501804  38.849194  81.447949   7.538959\n",
      "two  54.537390  45.209564  69.856019  85.245189\n",
      "               a          b          c          d\n",
      "one     4.501804  38.849194  81.447949   7.538959\n",
      "two    54.537390  45.209564  69.856019  85.245189\n",
      "three  17.136368  61.864907  90.524363  30.302834\n",
      "-----\n",
      "             a          b          c         d\n",
      "one   4.501804  38.849194  81.447949  7.538959\n",
      "five       NaN        NaN        NaN       NaN\n",
      "               a          b          c          d\n",
      "one     4.501804  38.849194  81.447949   7.538959\n",
      "two    54.537390  45.209564  69.856019  85.245189\n",
      "three  17.136368  61.864907  90.524363  30.302834\n"
     ]
    }
   ],
   "source": [
    "df = pd.DataFrame(np.random.rand(12).reshape(3,4)*100, index = ['one','two','three'], columns=['a','b','c','d'])\n",
    "print(df)\n",
    "print('----')\n",
    "data1 = df['a'] # 也等于df[['a']]\n",
    "print(data1, type(data1))\n",
    "data2 = df[['a','c']]\n",
    "print(data2, type(data2))\n",
    "\n",
    "print('----')\n",
    "#选择行\n",
    "data3 = df.loc['one']\n",
    "print(data3, type(data3))\n",
    "data4 = df.loc[['one','three']]\n",
    "print(data4, type(data4))\n",
    "print('-----#####')\n",
    "print(df[0:1])\n",
    "print(df[:-1])\n",
    "print(df[::])\n",
    "print('-----')\n",
    "\n",
    "print(df.loc[['one','five']])\n",
    "print(df.loc['one':'three'])"
   ]
  },
  {
   "cell_type": "code",
   "execution_count": 113,
   "metadata": {},
   "outputs": [
    {
     "name": "stdout",
     "output_type": "stream",
     "text": [
      "               a          b          c          d\n",
      "one    44.972540  74.426512  68.443693   7.496914\n",
      "two    43.612975  50.342302  91.155790  79.454513\n",
      "three  91.264153  12.918690  95.054786  10.361407\n",
      "four   78.307404  72.220684  53.144983  52.391569\n",
      "-----\n",
      "a    43.612975\n",
      "b    50.342302\n",
      "c    91.155790\n",
      "d    79.454513\n",
      "Name: two, dtype: float64 <class 'pandas.core.series.Series'>\n",
      "               a          b          c          d\n",
      "one    44.972540  74.426512  68.443693   7.496914\n",
      "three  91.264153  12.918690  95.054786  10.361407\n",
      "               a          b          c          d\n",
      "three  91.264153  12.918690  95.054786  10.361407\n",
      "four   78.307404  72.220684  53.144983  52.391569\n",
      "one    44.972540  74.426512  68.443693   7.496914\n"
     ]
    }
   ],
   "source": [
    "df = pd.DataFrame(np.random.rand(16).reshape(4,4)*100, index=['one','two','three','four'], columns=['a','b','c','d'])\n",
    "print(df)\n",
    "print('-----')\n",
    "print(df.iloc[1], type(df.iloc[1]))\n",
    "print(df.iloc[[0,2]])\n",
    "print(df.iloc[[2,3,0]])"
   ]
  },
  {
   "cell_type": "code",
   "execution_count": 119,
   "metadata": {},
   "outputs": [
    {
     "name": "stdout",
     "output_type": "stream",
     "text": [
      "               a          b          c          d\n",
      "one    38.357518  14.336775  77.495786  59.608499\n",
      "two    71.715963  95.854150  60.570773  61.811424\n",
      "three  45.598723  25.203972  53.214939  53.012162\n",
      "four   29.179138  50.641446   6.850252  66.394794\n",
      "-----\n",
      "           a      b      c     d\n",
      "one    False  False   True  True\n",
      "two     True   True   True  True\n",
      "three  False  False   True  True\n",
      "four   False   True  False  True <class 'pandas.core.frame.DataFrame'>\n",
      "---\n",
      "               a          b          c          d\n",
      "one          NaN        NaN  77.495786  59.608499\n",
      "two    71.715963  95.854150  60.570773  61.811424\n",
      "three        NaN        NaN  53.214939  53.012162\n",
      "four         NaN  50.641446        NaN  66.394794\n",
      "----\n",
      "one      False\n",
      "two       True\n",
      "three    False\n",
      "four     False\n",
      "Name: a, dtype: bool <class 'pandas.core.series.Series'>\n",
      "             a         b          c          d\n",
      "two  71.715963  95.85415  60.570773  61.811424\n"
     ]
    }
   ],
   "source": [
    "df = pd.DataFrame(np.random.rand(16).reshape(4,4)*100, index=['one','two','three','four'], columns=['a','b','c','d'])\n",
    "print(df)\n",
    "print('-----')\n",
    "b1 = df > 50\n",
    "print(b1, type(b1))\n",
    "print('---')\n",
    "print(df[b1])\n",
    "print('----')\n",
    "b2 = df['a'] > 50\n",
    "print(b2, type(b2))\n",
    "print(df[b2])"
   ]
  },
  {
   "cell_type": "code",
   "execution_count": 124,
   "metadata": {},
   "outputs": [
    {
     "name": "stdout",
     "output_type": "stream",
     "text": [
      "               a          b          c          d\n",
      "one    71.956638  77.206273  90.668874  71.413711\n",
      "two    51.370551  64.889110   0.760291  50.568108\n",
      "three  47.968773  48.980438  83.153073  93.520700\n",
      "four   10.350985  43.196065  40.234031  29.117191\n",
      "-----\n",
      "one      71.956638\n",
      "three    47.968773\n",
      "Name: a, dtype: float64\n",
      "three    47.968773\n",
      "four     10.350985\n",
      "Name: a, dtype: float64\n",
      "               b          c\n",
      "one    77.206273  90.668874\n",
      "two    64.889110   0.760291\n",
      "three  48.980438  83.153073\n"
     ]
    }
   ],
   "source": [
    "df = pd.DataFrame(np.random.rand(16).reshape(4,4)*100, index=['one','two','three','four'], columns=['a','b','c','d'])\n",
    "print(df)\n",
    "print('-----')\n",
    "print(df['a'].loc[['one','three']])\n",
    "print(df['a'].iloc[[2,3]])\n",
    "print(df[0:3][['b','c']])"
   ]
  },
  {
   "cell_type": "code",
   "execution_count": 127,
   "metadata": {},
   "outputs": [
    {
     "name": "stdout",
     "output_type": "stream",
     "text": [
      "           a          b          c          d\n",
      "0  97.331221  62.992248  71.606543  10.839071\n",
      "1  97.819180  66.526151  54.853905  33.199865\n",
      "2  14.844857  64.386233  61.694572  24.817305\n",
      "3  53.475171  89.636712  79.745527  34.002976\n",
      "----\n",
      "           a          b          c          d\n",
      "2  14.844857  64.386233  61.694572  24.817305\n",
      "3  53.475171  89.636712  79.745527  34.002976\n",
      "0  97.331221  62.992248  71.606543  10.839071\n",
      "1  97.819180  66.526151  54.853905  33.199865\n"
     ]
    }
   ],
   "source": [
    "df1 = pd.DataFrame(np.random.rand(16).reshape(4,4)*100,\n",
    "                   columns = ['a','b','c','d'])\n",
    "print(df1)\n",
    "print('----')\n",
    "\n",
    "print(df1.sort_values(['a'], ascending=True))\n"
   ]
  }
 ],
 "metadata": {
  "kernelspec": {
   "display_name": "Python 3",
   "language": "python",
   "name": "python3"
  },
  "language_info": {
   "codemirror_mode": {
    "name": "ipython",
    "version": 3
   },
   "file_extension": ".py",
   "mimetype": "text/x-python",
   "name": "python",
   "nbconvert_exporter": "python",
   "pygments_lexer": "ipython3",
   "version": "3.6.3"
  }
 },
 "nbformat": 4,
 "nbformat_minor": 2
}
