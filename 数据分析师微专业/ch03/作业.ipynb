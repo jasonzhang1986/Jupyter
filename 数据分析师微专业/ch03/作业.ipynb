{
 "cells": [
  {
   "attachments": {},
   "cell_type": "markdown",
   "metadata": {},
   "source": [
    "# 课程1.2  Numpy基础数据结构"
   ]
  },
  {
   "attachments": {},
   "cell_type": "markdown",
   "metadata": {},
   "source": [
    "### 作业1：分别按照要求，生成一个一维数组、二维数组，并且查看其shape\n",
    "<img style=\"float: left;\" src=\"zuoye_2_1.png\" width=\"40%\">"
   ]
  },
  {
   "cell_type": "code",
   "execution_count": 13,
   "metadata": {},
   "outputs": [
    {
     "name": "stdout",
     "output_type": "stream",
     "text": [
      "[1 2 'a' 'hello' list([1, 2, 3]) {'one': 100, 'two': 200}]\n",
      "ar1的shape为： (6,)\n",
      "--------\n",
      "[['0' '1' '2' '3' '4' '5']\n",
      " ['a' 'b' 'c' 'd' 'e' 'f']\n",
      " ['True' 'False' 'True' 'False' 'True' 'True']]\n",
      "a2的shape为： (3, 6)\n",
      "--------\n"
     ]
    }
   ],
   "source": [
    "import numpy as np\n",
    "\n",
    "a1 = np.array([1, 2, 'a', 'hello', [1,2,3], {'one':100, 'two':200}])\n",
    "print(a1)\n",
    "print('ar1的shape为：', a1.shape)\n",
    "\n",
    "print('--------')\n",
    "\n",
    "a2 = np.array([['0','1','2','3','4','5'], ['a','b','c','d','e','f'],['True','False','True','False','True','True']])\n",
    "print(a2)\n",
    "print('a2的shape为：', a2.shape)\n",
    "\n",
    "print('--------')"
   ]
  },
  {
   "attachments": {},
   "cell_type": "markdown",
   "metadata": {},
   "source": [
    "### 作业2：生成一个一维数组，起始值为5，终点值为15，样本数为10个\n",
    "<img style=\"float: left;\" src=\"zuoye_2_2.png\" width=\"40%\">"
   ]
  },
  {
   "cell_type": "code",
   "execution_count": 16,
   "metadata": {},
   "outputs": [
    {
     "name": "stdout",
     "output_type": "stream",
     "text": [
      "[ 5  6  7  8  9 10 11 12 13 14]\n"
     ]
    }
   ],
   "source": [
    "ar1 = np.arange(5,15)\n",
    "print(ar1)"
   ]
  },
  {
   "attachments": {},
   "cell_type": "markdown",
   "metadata": {},
   "source": [
    "### 作业3：按照要求创建以下数组\n",
    "<img style=\"float: left;\" src=\"zuoye_2_3.png\"  width=\"20%\">"
   ]
  },
  {
   "cell_type": "code",
   "execution_count": 24,
   "metadata": {},
   "outputs": [
    {
     "name": "stdout",
     "output_type": "stream",
     "text": [
      "[[ 0.  0.  0.  0.]\n",
      " [ 0.  0.  0.  0.]\n",
      " [ 0.  0.  0.  0.]\n",
      " [ 0.  0.  0.  0.]]\n",
      "-------\n",
      "[[ 1.  1.  1.]\n",
      " [ 1.  1.  1.]]\n",
      "-------\n",
      "[[1 0 0]\n",
      " [0 1 0]\n",
      " [0 0 1]]\n",
      "-------\n"
     ]
    }
   ],
   "source": [
    "print(np.zeros((4,4)))\n",
    "print('-------')\n",
    "print(np.ones((2,3)))\n",
    "print('-------')\n",
    "print(np.eye(3, dtype=np.int32))\n",
    "print('-------')"
   ]
  },
  {
   "attachments": {},
   "cell_type": "markdown",
   "metadata": {},
   "source": [
    "# 课程1.3  Numpy通用函数"
   ]
  },
  {
   "attachments": {},
   "cell_type": "markdown",
   "metadata": {},
   "source": [
    "### 作业1：创建一个20个元素的数组，分别改变成两个形状：(4,5),(5,6) （提示：超出范围用resize）\n",
    "<img style=\"float: left;\" src=\"zuoye_3_1.png\" width=\"20%\">"
   ]
  },
  {
   "cell_type": "code",
   "execution_count": 28,
   "metadata": {},
   "outputs": [
    {
     "name": "stdout",
     "output_type": "stream",
     "text": [
      "[ 0  1  2  3  4  5  6  7  8  9 10 11 12 13 14 15 16 17 18 19]\n",
      "[[ 0  1  2  3  4]\n",
      " [ 5  6  7  8  9]\n",
      " [10 11 12 13 14]\n",
      " [15 16 17 18 19]]\n",
      "--------\n",
      "[[ 0  1  2  3  4  5]\n",
      " [ 6  7  8  9 10 11]\n",
      " [12 13 14 15 16 17]\n",
      " [18 19  0  1  2  3]\n",
      " [ 4  5  6  7  8  9]]\n",
      "--------\n"
     ]
    }
   ],
   "source": [
    "ar1 = np.arange(20)\n",
    "print(ar1)\n",
    "print(ar1.reshape((4,5)))\n",
    "print('--------')\n",
    "print(np.resize(ar1,(5,6)))\n",
    "print('--------')"
   ]
  },
  {
   "attachments": {},
   "cell_type": "markdown",
   "metadata": {},
   "source": [
    "### 作业2：创建一个(4,4)的数组，把其元素类型改为字符型\n",
    "<img style=\"float: left\" src=\"zuoye_3_2.png\" width=\"20%\">"
   ]
  },
  {
   "cell_type": "code",
   "execution_count": 32,
   "metadata": {},
   "outputs": [
    {
     "name": "stdout",
     "output_type": "stream",
     "text": [
      "[[ 0  1  2  3]\n",
      " [ 4  5  6  7]\n",
      " [ 8  9 10 11]\n",
      " [12 13 14 15]]\n",
      "-------\n",
      "[['0' '1' '2' '3']\n",
      " ['4' '5' '6' '7']\n",
      " ['8' '9' '10' '11']\n",
      " ['12' '13' '14' '15']]\n"
     ]
    }
   ],
   "source": [
    "ar = np.arange(16).reshape((4,4))\n",
    "print(ar)\n",
    "print('-------')\n",
    "ar2 = ar.astype(np.str)\n",
    "print(ar2)"
   ]
  },
  {
   "attachments": {},
   "cell_type": "markdown",
   "metadata": {},
   "source": [
    "### 作业3：根据要求创建数组，运用数组的运算方法得到结果：result = ar * 10 +100，并求出result的均值及求和\n",
    "<img style=\"float: left\" src=\"zuoye_3_3.png\" width=\"20%\">"
   ]
  },
  {
   "cell_type": "code",
   "execution_count": 39,
   "metadata": {},
   "outputs": [
    {
     "name": "stdout",
     "output_type": "stream",
     "text": [
      "创建数组为：\n",
      " [[ 0  1  2  3]\n",
      " [ 4  5  6  7]\n",
      " [ 8  9 10 11]\n",
      " [12 13 14 15]]\n",
      "------\n",
      "计算后的数组为：\n",
      " [[100 110 120 130]\n",
      " [140 150 160 170]\n",
      " [180 190 200 210]\n",
      " [220 230 240 250]]\n",
      "------\n",
      "result的均值为：\n",
      " 175.0\n",
      "------\n",
      "result求和为：\n",
      " 2800\n",
      "------\n"
     ]
    }
   ],
   "source": [
    "ar = np.arange(16).reshape((4,4))\n",
    "print('创建数组为：\\n', ar)\n",
    "print('------')\n",
    "result = ar * 10 + 100\n",
    "print('计算后的数组为：\\n', result)\n",
    "print('------')\n",
    "print('result的均值为：\\n', result.mean())\n",
    "print('------')\n",
    "print('result求和为：\\n', result.sum())\n",
    "print('------')"
   ]
  },
  {
   "attachments": {},
   "cell_type": "markdown",
   "metadata": {},
   "source": [
    "# 课程1.4  Numpy索引及切片"
   ]
  },
  {
   "cell_type": "markdown",
   "metadata": {},
   "source": [
    "### 作业1：按照要求创建数组，通过索引，其ar[4]、ar[:2,3:]、ar[3][2]分别是多少\n",
    "<img style=\"float: left\" src=\"zuoye_4_1.png\" width=\"20%\">"
   ]
  },
  {
   "cell_type": "code",
   "execution_count": 48,
   "metadata": {},
   "outputs": [
    {
     "name": "stdout",
     "output_type": "stream",
     "text": [
      "[[ 0  1  2  3  4]\n",
      " [ 5  6  7  8  9]\n",
      " [10 11 12 13 14]\n",
      " [15 16 17 18 19]\n",
      " [20 21 22 23 24]]\n",
      "ar[4]是： [20 21 22 23 24]\n",
      "ar[:2,3:]是：\n",
      " [[3 4]\n",
      " [8 9]]\n",
      "ar[3][2]是：\n",
      " 17\n"
     ]
    }
   ],
   "source": [
    "ar = np.arange(25).reshape((5,5))\n",
    "print(ar)\n",
    "print('ar[4]是：',ar[4])\n",
    "print('ar[:2,3:]是：\\n', ar[:2,3:])\n",
    "print('ar[3][2]是：\\n', ar[3][2])"
   ]
  },
  {
   "attachments": {},
   "cell_type": "markdown",
   "metadata": {},
   "source": [
    "### 作业2：按照要求创建数组，筛选出元素值大于5的值并生成新的数组\n",
    "<img style=\"float: left\" src=\"zuoye_4_2.png\" width=\"20%\">"
   ]
  },
  {
   "cell_type": "code",
   "execution_count": 52,
   "metadata": {},
   "outputs": [
    {
     "name": "stdout",
     "output_type": "stream",
     "text": [
      "[[0 1 2 3 4]\n",
      " [5 6 7 8 9]]\n",
      "-------\n",
      "[[False False False False False]\n",
      " [False  True  True  True  True]]\n",
      "-------\n",
      "大于5的值有：\n",
      " [6 7 8 9]\n"
     ]
    }
   ],
   "source": [
    "ar = np.arange(10).reshape((2,5))\n",
    "print(ar)\n",
    "print('-------')\n",
    "ar2 = ar > 5\n",
    "print(ar2)\n",
    "print('-------')\n",
    "print('大于5的值有：\\n',ar[ar2])"
   ]
  },
  {
   "cell_type": "markdown",
   "metadata": {},
   "source": [
    "# 课程1.5  Numpy随机数\n",
    "### 作业1：请按照要求创建数组ar，再将ar[:2,:2]的值改为[0,1)的随机数\n",
    "<img style=\"float: left\" src=\"zuoye_5_1.png\" width=\"30%\">"
   ]
  },
  {
   "cell_type": "code",
   "execution_count": 58,
   "metadata": {},
   "outputs": [
    {
     "name": "stdout",
     "output_type": "stream",
     "text": [
      "[[  0.   1.   2.   3.   4.]\n",
      " [  5.   6.   7.   8.   9.]\n",
      " [ 10.  11.  12.  13.  14.]\n",
      " [ 15.  16.  17.  18.  19.]\n",
      " [ 20.  21.  22.  23.  24.]]\n",
      "-------\n",
      "[[  0.51347286   0.8214422    2.           3.           4.        ]\n",
      " [  0.09805049   0.02912884   7.           8.           9.        ]\n",
      " [ 10.          11.          12.          13.          14.        ]\n",
      " [ 15.          16.          17.          18.          19.        ]\n",
      " [ 20.          21.          22.          23.          24.        ]]\n"
     ]
    }
   ],
   "source": [
    "ar = np.arange(25.0).reshape(5,5)\n",
    "print(ar)\n",
    "print('-------')\n",
    "ar[:2,:2] = np.random.rand(2,2)\n",
    "print(ar)"
   ]
  },
  {
   "cell_type": "markdown",
   "metadata": {},
   "source": [
    "### 作业2： 创建2个包含10个元素的正太分布一维数组\n",
    "<img style=\"float: left\" src=\"zuoye_5_2.png\" width=\"50%\">"
   ]
  },
  {
   "cell_type": "code",
   "execution_count": 61,
   "metadata": {},
   "outputs": [
    {
     "name": "stdout",
     "output_type": "stream",
     "text": [
      "[[-0.58068452 -0.19979126  1.28563737  0.67816789  0.35459519]\n",
      " [ 0.43456541  0.5410816   0.25240291 -0.67777755 -0.37898716]]\n",
      "------\n",
      "[[ 0.25400571  0.97665398  0.70620777  0.75488971  1.82621337]\n",
      " [-1.64234099 -2.51292071  1.153845    0.16233384  0.5151414 ]]\n",
      "------\n",
      "[[-0.58068452 -0.19979126  1.28563737  0.67816789  0.35459519]\n",
      " [ 0.43456541  0.5410816   0.25240291 -0.67777755 -0.37898716]\n",
      " [ 0.25400571  0.97665398  0.70620777  0.75488971  1.82621337]\n",
      " [-1.64234099 -2.51292071  1.153845    0.16233384  0.5151414 ]]\n"
     ]
    }
   ],
   "source": [
    "ar1 = np.random.normal(size=(2,5))\n",
    "ar2 = np.random.normal(size=(2,5))\n",
    "print(ar1)\n",
    "print('------')\n",
    "print(ar2)\n",
    "print('------')\n",
    "print(np.vstack((ar1,ar2)))"
   ]
  },
  {
   "attachments": {},
   "cell_type": "markdown",
   "metadata": {},
   "source": [
    "# 课程1.6  Numpy数据的输入输出\n",
    "### 作业1：创建一个10*10的整数随机数组，取值范围为0-100，并存为txt文件，用逗号分开\n",
    "<img style=\"float: left\" src=\"zuoye_6_1.png\" width=\"30%\">"
   ]
  },
  {
   "cell_type": "code",
   "execution_count": 69,
   "metadata": {},
   "outputs": [
    {
     "name": "stdout",
     "output_type": "stream",
     "text": [
      "[[45 68  5 18  4 23 86 21 94 92]\n",
      " [38 90 43 98 44 65  5 55  8 34]\n",
      " [45 34 91 70 54 23 31 55 64 13]\n",
      " [91 97 69 87 15 95 42 75 18 23]\n",
      " [97 63 32 67  6  5 25 47 78 35]\n",
      " [91 94 97 32  8 79 89 33 63 88]\n",
      " [82 32 89 84 78 11 67 61 30 86]\n",
      " [93  5  8 38 17 89 38 46 72 91]\n",
      " [63 51 31 71 99 79 66 42 52 29]\n",
      " [40 32 76 65 88 93 74 28 12 75]] int64\n",
      "------\n",
      "[[45 68  5 18  4 23 86 21 94 92]\n",
      " [38 90 43 98 44 65  5 55  8 34]\n",
      " [45 34 91 70 54 23 31 55 64 13]\n",
      " [91 97 69 87 15 95 42 75 18 23]\n",
      " [97 63 32 67  6  5 25 47 78 35]\n",
      " [91 94 97 32  8 79 89 33 63 88]\n",
      " [82 32 89 84 78 11 67 61 30 86]\n",
      " [93  5  8 38 17 89 38 46 72 91]\n",
      " [63 51 31 71 99 79 66 42 52 29]\n",
      " [40 32 76 65 88 93 74 28 12 75]]\n"
     ]
    }
   ],
   "source": [
    "ar = np.random.randint(100,size=(10,10))\n",
    "print(ar, ar.dtype)\n",
    "np.savetxt('array.txt',ar, fmt='%d', delimiter=',')\n",
    "print('------')\n",
    "ar_load = np.loadtxt('array.txt',dtype=np.int64, delimiter=',')\n",
    "print(ar_load)"
   ]
  }
 ],
 "metadata": {
  "kernelspec": {
   "display_name": "Python 3",
   "language": "python",
   "name": "python3"
  },
  "language_info": {
   "codemirror_mode": {
    "name": "ipython",
    "version": 3
   },
   "file_extension": ".py",
   "mimetype": "text/x-python",
   "name": "python",
   "nbconvert_exporter": "python",
   "pygments_lexer": "ipython3",
   "version": "3.6.3"
  }
 },
 "nbformat": 4,
 "nbformat_minor": 2
}
