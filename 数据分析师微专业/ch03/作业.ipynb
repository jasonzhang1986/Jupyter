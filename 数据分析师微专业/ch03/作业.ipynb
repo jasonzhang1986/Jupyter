{
 "cells": [
  {
   "cell_type": "markdown",
   "metadata": {},
   "source": [
    "作业1：分别按照要求，生成一个一维数组、二维数组，并且查看其shape\n",
    "![img](zuoye_1.png)"
   ]
  },
  {
   "cell_type": "code",
   "execution_count": 12,
   "metadata": {},
   "outputs": [
    {
     "name": "stdout",
     "output_type": "stream",
     "text": [
      "[1 2 'a' 'hello' list([1, 2, 3]) {'one': 100, 'two': 200}]\n",
      "ar1的shape为： (6,)\n",
      "--------\n",
      "[['0' '1' '2' '3' '4' '5']\n",
      " ['a' 'b' 'c' 'd' 'e' 'f']\n",
      " ['True' 'False' 'True' 'False' 'True' 'True']]\n",
      "a2的shape为： (3, 6)\n",
      "--------\n"
     ]
    }
   ],
   "source": [
    "import numpy as np\n",
    "\n",
    "a1 = np.array([1, 2, 'a', 'hello', [1,2,3], {'one':100, 'two':200}])\n",
    "print(a1)\n",
    "print('ar1的shape为：', a1.shape)\n",
    "\n",
    "print('--------')\n",
    "\n",
    "a2 = np.array([['0','1','2','3','4','5'], ['a','b','c','d','e','f'],['True','False','True','False','True','True']])\n",
    "print(a2)\n",
    "print('a2的shape为：', a2.shape)\n",
    "\n",
    "print('--------')"
   ]
  }
 ],
 "metadata": {
  "kernelspec": {
   "display_name": "Python 3",
   "language": "python",
   "name": "python3"
  },
  "language_info": {
   "codemirror_mode": {
    "name": "ipython",
    "version": 3
   },
   "file_extension": ".py",
   "mimetype": "text/x-python",
   "name": "python",
   "nbconvert_exporter": "python",
   "pygments_lexer": "ipython3",
   "version": "3.6.4"
  }
 },
 "nbformat": 4,
 "nbformat_minor": 2
}
