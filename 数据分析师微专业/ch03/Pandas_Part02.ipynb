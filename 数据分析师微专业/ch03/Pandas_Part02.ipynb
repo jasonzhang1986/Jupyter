{
 "cells": [
  {
   "cell_type": "code",
   "execution_count": 7,
   "metadata": {},
   "outputs": [
    {
     "name": "stdout",
     "output_type": "stream",
     "text": [
      "2018-03-07 <class 'datetime.date'>\n",
      "2017-10-01\n",
      "2018-03-07 21:03:09.374825 <class 'datetime.datetime'>\n",
      "2018-03-02 12:05:30\n"
     ]
    }
   ],
   "source": [
    "import datetime\n",
    "\n",
    "today = datetime.date.today()\n",
    "print(today, type(today))\n",
    "\n",
    "d = datetime.date(2017,10,1)\n",
    "print(d)\n",
    "\n",
    "now = datetime.datetime.now()\n",
    "print(now, type(now))\n",
    "\n",
    "t = datetime.datetime(2018,3,2,12,5,30)\n",
    "print(t)"
   ]
  },
  {
   "cell_type": "code",
   "execution_count": 11,
   "metadata": {},
   "outputs": [
    {
     "name": "stdout",
     "output_type": "stream",
     "text": [
      "2018-03-07 21:14:44.709867\n",
      "2018-03-06 21:14:44.709867\n",
      "1 day, 0:00:00 <class 'datetime.timedelta'>\n"
     ]
    }
   ],
   "source": [
    "today = datetime.datetime.today()\n",
    "print(today)\n",
    "yestoday = today - datetime.timedelta(1)\n",
    "print(yestoday)\n",
    "delta = today - yestoday\n",
    "print(delta, type(delta))"
   ]
  },
  {
   "cell_type": "code",
   "execution_count": 14,
   "metadata": {},
   "outputs": [
    {
     "name": "stdout",
     "output_type": "stream",
     "text": [
      "2017-12-04 14:20:30 <class 'pandas._libs.tslib.Timestamp'>\n",
      "2018-02-14 00:00:00\n",
      "2018-03-06 12:22:39\n"
     ]
    }
   ],
   "source": [
    "import numpy as np\n",
    "import pandas as pd\n",
    "\n",
    "date1 = datetime.datetime(2017,12,4,14,20,30)\n",
    "date2 = '2018-02-14'\n",
    "t1 = pd.Timestamp(date1)\n",
    "t2 = pd.Timestamp(date2)\n",
    "print(t1, type(t1))\n",
    "print(t2)\n",
    "print(pd.Timestamp('2018-03-06 12:22:39'))"
   ]
  },
  {
   "cell_type": "code",
   "execution_count": 19,
   "metadata": {},
   "outputs": [
    {
     "name": "stdout",
     "output_type": "stream",
     "text": [
      "2017-12-04 14:20:30 <class 'pandas._libs.tslib.Timestamp'>\n",
      "2018-02-14 00:00:00 <class 'pandas._libs.tslib.Timestamp'>\n",
      "DatetimeIndex(['2017-12-05', '2018-03-12', '2015-03-02'], dtype='datetime64[ns]', freq=None) <class 'pandas.core.indexes.datetimes.DatetimeIndex'>\n",
      "DatetimeIndex(['2017-02-01', '2017-02-02', '2017-02-03', 'NaT', '2017-02-05',\n",
      "               '2017-02-06'],\n",
      "              dtype='datetime64[ns]', freq=None) <class 'pandas.core.indexes.datetimes.DatetimeIndex'>\n"
     ]
    }
   ],
   "source": [
    "d = pd.to_datetime(date1)\n",
    "print(d, type(d))\n",
    "d2 = pd.to_datetime(date2)\n",
    "print(d2, type(d2))\n",
    "\n",
    "lst_date = ['2017-12-5','2018-3-12','2015-3-2']\n",
    "d3 = pd.to_datetime(lst_date)\n",
    "print(d3, type(d3))\n",
    "\n",
    "date3 = ['2017-2-1','2017-2-2','2017-2-3','hello world!','2017-2-5','2017-2-6']\n",
    "t3 = pd.to_datetime(date3, errors = 'coerce') #格式不对的返回NaT，其他的正常解析\n",
    "print(t3,type(t3))"
   ]
  }
 ],
 "metadata": {
  "kernelspec": {
   "display_name": "Python 3",
   "language": "python",
   "name": "python3"
  },
  "language_info": {
   "codemirror_mode": {
    "name": "ipython",
    "version": 3
   },
   "file_extension": ".py",
   "mimetype": "text/x-python",
   "name": "python",
   "nbconvert_exporter": "python",
   "pygments_lexer": "ipython3",
   "version": "3.6.3"
  }
 },
 "nbformat": 4,
 "nbformat_minor": 2
}
