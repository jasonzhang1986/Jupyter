{
 "cells": [
  {
   "cell_type": "code",
   "execution_count": 37,
   "metadata": {},
   "outputs": [
    {
     "name": "stdout",
     "output_type": "stream",
     "text": [
      "[list([1, 2, 3]) list(['a', 'b', 'c', 'd'])] <class 'numpy.ndarray'>\n",
      "1\n",
      "(2,)\n",
      "2\n",
      "object\n",
      "8\n"
     ]
    }
   ],
   "source": [
    "import numpy as np\n",
    "\n",
    "ar = np.array([[1,2,3],['a','b','c','d']])\n",
    "print(ar, type(ar))\n",
    "print(ar.ndim) #数组维数\n",
    "print(ar.shape) # 2 x 3\n",
    "print(ar.size) # 6 = 2x3\n",
    "print(ar.dtype)\n",
    "print(ar.itemsize)"
   ]
  },
  {
   "cell_type": "code",
   "execution_count": 20,
   "metadata": {},
   "outputs": [
    {
     "name": "stdout",
     "output_type": "stream",
     "text": [
      "[0 1 2 3 4 5 6 7 8 9]\n",
      "[0 1 2 3 4 5 6 7 8 9]\n",
      "[2 3 4 5 6 7 8 9]\n",
      "[2 3 4 5 6 7 8 9]\n",
      "[1 3 5 7 9]\n"
     ]
    }
   ],
   "source": [
    "ar1 = np.array(range(10))\n",
    "print(ar1)\n",
    "ar2 = np.arange(10)\n",
    "print(ar2)\n",
    "\n",
    "ar3 = np.array(range(2,10))\n",
    "print(ar3)\n",
    "ar4 = np.arange(2,10)\n",
    "print(ar4)\n",
    "\n",
    "ar5 = np.array(range(1,10,2))\n",
    "print(ar5)"
   ]
  },
  {
   "cell_type": "code",
   "execution_count": 24,
   "metadata": {},
   "outputs": [
    {
     "name": "stdout",
     "output_type": "stream",
     "text": [
      "[  2.   4.   6.   8.  10.]\n"
     ]
    }
   ],
   "source": [
    "ar1 = np.linspace(2,10,num=5)\n",
    "print(ar1)"
   ]
  },
  {
   "cell_type": "code",
   "execution_count": 36,
   "metadata": {},
   "outputs": [
    {
     "name": "stdout",
     "output_type": "stream",
     "text": [
      "[ 0.  0.  0.  0.  0.]\n",
      "[ 0.  0.  0.]\n",
      "[[0 0]\n",
      " [0 0]\n",
      " [0 0]]\n"
     ]
    }
   ],
   "source": [
    "ar1 = np.zeros(5)\n",
    "print(ar1)\n",
    "ar2 = np.zeros((3,))\n",
    "print(ar2)\n",
    "ar3 = np.zeros((3,2), dtype=int)\n",
    "print(ar3)"
   ]
  }
 ],
 "metadata": {
  "kernelspec": {
   "display_name": "Python 3",
   "language": "python",
   "name": "python3"
  },
  "language_info": {
   "codemirror_mode": {
    "name": "ipython",
    "version": 3
   },
   "file_extension": ".py",
   "mimetype": "text/x-python",
   "name": "python",
   "nbconvert_exporter": "python",
   "pygments_lexer": "ipython3",
   "version": "3.6.3"
  }
 },
 "nbformat": 4,
 "nbformat_minor": 2
}
