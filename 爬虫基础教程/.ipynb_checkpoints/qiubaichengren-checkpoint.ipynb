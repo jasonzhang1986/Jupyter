{
 "cells": [
  {
   "cell_type": "code",
   "execution_count": 20,
   "metadata": {},
   "outputs": [],
   "source": [
    "import webbrowser\n",
    "def requests_view(response):\n",
    "    request_url = response.url\n",
    "    base_url = '<head><base href=\"%s\">' %request_url\n",
    "    base_url = base_url.encode()\n",
    "    content = response.content.replace(b'<head>', base_url)\n",
    "    with open('tmp.html', 'wb') as tem_html:\n",
    "        tem_html.write(content)\n",
    "    chrome_path = 'open -a /Applications/Google\\ Chrome.app %s'\n",
    "    webbrowser.get(chrome_path).open_new_tab('tmp.html')\n",
    "    "
   ]
  },
  {
   "cell_type": "code",
   "execution_count": 21,
   "metadata": {},
   "outputs": [],
   "source": [
    "import requests\n",
    "response = requests.get('http://www.qiubaichengren.net/')\n",
    "requests_view(response)"
   ]
  },
  {
   "cell_type": "code",
   "execution_count": null,
   "metadata": {
    "collapsed": true
   },
   "outputs": [],
   "source": []
  }
 ],
 "metadata": {
  "kernelspec": {
   "display_name": "Python 3",
   "language": "python",
   "name": "python3"
  },
  "language_info": {
   "codemirror_mode": {
    "name": "ipython",
    "version": 3
   },
   "file_extension": ".py",
   "mimetype": "text/x-python",
   "name": "python",
   "nbconvert_exporter": "python",
   "pygments_lexer": "ipython3",
   "version": "3.6.3"
  }
 },
 "nbformat": 4,
 "nbformat_minor": 2
}
