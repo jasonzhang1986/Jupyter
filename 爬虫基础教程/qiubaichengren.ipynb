{
 "cells": [
  {
   "cell_type": "code",
   "execution_count": 24,
   "metadata": {
    "collapsed": true
   },
   "outputs": [],
   "source": [
    "import webbrowser\n",
    "import os\n",
    "def requests_view(response):\n",
    "    request_url = response.url\n",
    "    base_url = '<head><base href=\"%s\">' %request_url\n",
    "    base_url = base_url.encode()\n",
    "    content = response.content.replace(b'<head>', base_url)\n",
    "    with open('tmp.html', 'wb') as tem_html:\n",
    "        tem_html.write(content)\n",
    "    #Mac 下的操作\n",
    "#     webbrowser.get('safari').open_new_tab(os.path.join(os.getcwd(),'tmp.html'))\n",
    "    webbrowser.open_new_tab(os.path.join(os.getcwd(),'tmp.html'))\n",
    "    "
   ]
  },
  {
   "cell_type": "code",
   "execution_count": 25,
   "metadata": {},
   "outputs": [
    {
     "name": "stdout",
     "output_type": "stream",
     "text": [
      "http://www.qiubaichengren.net/4.html\n",
      "[]\n"
     ]
    }
   ],
   "source": [
    "import requests\n",
    "from lxml import etree\n",
    "\n",
    "def getlink(url):\n",
    "    print(url)\n",
    "    response = requests.get(url)\n",
    "#     requests_view(response)\n",
    "    html = etree.HTML(response.content)\n",
    "    link = html.xpath(\".//div[@class='page']//a[contains(text(),'下一页')]/@href\")\n",
    "    print(link)\n",
    "    if len(link)>0:\n",
    "        return link[0]\n",
    "    else:\n",
    "        return None\n",
    "\n",
    "getlink('http://www.qiubaichengren.net/4.html')"
   ]
  },
  {
   "cell_type": "code",
   "execution_count": 21,
   "metadata": {},
   "outputs": [
    {
     "name": "stdout",
     "output_type": "stream",
     "text": [
      "http://www.qiubaichengren.net/\n",
      "['2.html']\n",
      "http://www.qiubaichengren.net/2.html\n",
      "['3.html']\n",
      "http://www.qiubaichengren.net/3.html\n",
      "['4.html']\n",
      "http://www.qiubaichengren.net/4.html\n",
      "[]\n"
     ]
    }
   ],
   "source": [
    "import time\n",
    "\n",
    "base_url = 'http://www.qiubaichengren.net'\n",
    "url = ''\n",
    "while True:    \n",
    "    url= getlink(base_url+'/'+url)\n",
    "    time.sleep(0.1)\n",
    "    if not url:\n",
    "        break;\n",
    "    "
   ]
  }
 ],
 "metadata": {
  "kernelspec": {
   "display_name": "Python 3",
   "language": "python",
   "name": "python3"
  },
  "language_info": {
   "codemirror_mode": {
    "name": "ipython",
    "version": 3
   },
   "file_extension": ".py",
   "mimetype": "text/x-python",
   "name": "python",
   "nbconvert_exporter": "python",
   "pygments_lexer": "ipython3",
   "version": "3.6.4"
  }
 },
 "nbformat": 4,
 "nbformat_minor": 2
}
